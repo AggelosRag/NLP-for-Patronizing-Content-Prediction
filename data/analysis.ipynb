{
 "cells": [
  {
   "cell_type": "markdown",
   "source": [
    "# Analysis"
   ],
   "metadata": {
    "collapsed": false
   },
   "id": "c3831bf1bdb1792"
  },
  {
   "cell_type": "markdown",
   "source": [
    "#### This Notebook contains all the plots for the analysis in the pre-processing and the evaluation of the model"
   ],
   "metadata": {
    "collapsed": false
   },
   "id": "db0cdb0decd91f0f"
  },
  {
   "cell_type": "code",
   "execution_count": 139,
   "outputs": [],
   "source": [
    "import pandas as pd"
   ],
   "metadata": {
    "collapsed": false,
    "ExecuteTime": {
     "end_time": "2024-03-01T12:00:05.631263Z",
     "start_time": "2024-03-01T12:00:05.500342Z"
    }
   },
   "id": "be583915e8aaaffd"
  },
  {
   "cell_type": "code",
   "execution_count": 140,
   "id": "initial_id",
   "metadata": {
    "collapsed": true,
    "ExecuteTime": {
     "end_time": "2024-03-01T12:00:05.711795Z",
     "start_time": "2024-03-01T12:00:05.503891Z"
    }
   },
   "outputs": [
    {
     "data": {
      "text/plain": "       par_id    art_id     keyword country_code  \\\n0           1  24942188    hopeless           ph   \n1           2  21968160     migrant           gh   \n2           3  16584954   immigrant           ie   \n3           4   7811231    disabled           nz   \n4           5   1494111     refugee           ca   \n...       ...       ...         ...          ...   \n10463   10464  19612634    disabled           ie   \n10464   10465  14297363       women           lk   \n10465   10466  70091353  vulnerable           ph   \n10466   10467  20282330     in-need           ng   \n10467   10468  16753236    hopeless           in   \n\n                                                    text  label  binary_label  \n0      We 're living in times of absolute insanity , ...    0.0           0.0  \n1      In Libya today , there are countless number of...    0.0           0.0  \n2      \"White House press secretary Sean Spicer said ...    0.0           0.0  \n3      Council customers only signs would be displaye...    0.0           0.0  \n4      \"\"\" Just like we received migrants fleeing El ...    0.0           0.0  \n...                                                  ...    ...           ...  \n10463  \"When Marie O'Donoghue went looking for a spec...    0.0           0.0  \n10464  \"Sri Lankan norms and culture inhibit women fr...    1.0           0.0  \n10465  He added that the AFP will continue to bank on...    0.0           0.0  \n10466  \"\"\" She has one huge platform , and informatio...    3.0           1.0  \n10467  \"\"\" Anja Ringgren Loven I ca n't find a word t...    4.0           1.0  \n\n[10467 rows x 7 columns]",
      "text/html": "<div>\n<style scoped>\n    .dataframe tbody tr th:only-of-type {\n        vertical-align: middle;\n    }\n\n    .dataframe tbody tr th {\n        vertical-align: top;\n    }\n\n    .dataframe thead th {\n        text-align: right;\n    }\n</style>\n<table border=\"1\" class=\"dataframe\">\n  <thead>\n    <tr style=\"text-align: right;\">\n      <th></th>\n      <th>par_id</th>\n      <th>art_id</th>\n      <th>keyword</th>\n      <th>country_code</th>\n      <th>text</th>\n      <th>label</th>\n      <th>binary_label</th>\n    </tr>\n  </thead>\n  <tbody>\n    <tr>\n      <th>0</th>\n      <td>1</td>\n      <td>24942188</td>\n      <td>hopeless</td>\n      <td>ph</td>\n      <td>We 're living in times of absolute insanity , ...</td>\n      <td>0.0</td>\n      <td>0.0</td>\n    </tr>\n    <tr>\n      <th>1</th>\n      <td>2</td>\n      <td>21968160</td>\n      <td>migrant</td>\n      <td>gh</td>\n      <td>In Libya today , there are countless number of...</td>\n      <td>0.0</td>\n      <td>0.0</td>\n    </tr>\n    <tr>\n      <th>2</th>\n      <td>3</td>\n      <td>16584954</td>\n      <td>immigrant</td>\n      <td>ie</td>\n      <td>\"White House press secretary Sean Spicer said ...</td>\n      <td>0.0</td>\n      <td>0.0</td>\n    </tr>\n    <tr>\n      <th>3</th>\n      <td>4</td>\n      <td>7811231</td>\n      <td>disabled</td>\n      <td>nz</td>\n      <td>Council customers only signs would be displaye...</td>\n      <td>0.0</td>\n      <td>0.0</td>\n    </tr>\n    <tr>\n      <th>4</th>\n      <td>5</td>\n      <td>1494111</td>\n      <td>refugee</td>\n      <td>ca</td>\n      <td>\"\"\" Just like we received migrants fleeing El ...</td>\n      <td>0.0</td>\n      <td>0.0</td>\n    </tr>\n    <tr>\n      <th>...</th>\n      <td>...</td>\n      <td>...</td>\n      <td>...</td>\n      <td>...</td>\n      <td>...</td>\n      <td>...</td>\n      <td>...</td>\n    </tr>\n    <tr>\n      <th>10463</th>\n      <td>10464</td>\n      <td>19612634</td>\n      <td>disabled</td>\n      <td>ie</td>\n      <td>\"When Marie O'Donoghue went looking for a spec...</td>\n      <td>0.0</td>\n      <td>0.0</td>\n    </tr>\n    <tr>\n      <th>10464</th>\n      <td>10465</td>\n      <td>14297363</td>\n      <td>women</td>\n      <td>lk</td>\n      <td>\"Sri Lankan norms and culture inhibit women fr...</td>\n      <td>1.0</td>\n      <td>0.0</td>\n    </tr>\n    <tr>\n      <th>10465</th>\n      <td>10466</td>\n      <td>70091353</td>\n      <td>vulnerable</td>\n      <td>ph</td>\n      <td>He added that the AFP will continue to bank on...</td>\n      <td>0.0</td>\n      <td>0.0</td>\n    </tr>\n    <tr>\n      <th>10466</th>\n      <td>10467</td>\n      <td>20282330</td>\n      <td>in-need</td>\n      <td>ng</td>\n      <td>\"\"\" She has one huge platform , and informatio...</td>\n      <td>3.0</td>\n      <td>1.0</td>\n    </tr>\n    <tr>\n      <th>10467</th>\n      <td>10468</td>\n      <td>16753236</td>\n      <td>hopeless</td>\n      <td>in</td>\n      <td>\"\"\" Anja Ringgren Loven I ca n't find a word t...</td>\n      <td>4.0</td>\n      <td>1.0</td>\n    </tr>\n  </tbody>\n</table>\n<p>10467 rows × 7 columns</p>\n</div>"
     },
     "execution_count": 140,
     "metadata": {},
     "output_type": "execute_result"
    }
   ],
   "source": [
    "path = '/Users/gouse/PycharmProjects/NLP/labs_2023_2024/CW/data/baseline_preprocessed_csvs'\n",
    "all_df = pd.read_csv(path+'/dontpatronizeme_pcl.csv')\n",
    "all_df.dropna(inplace=True)\n",
    "all_df"
   ]
  },
  {
   "cell_type": "code",
   "execution_count": 141,
   "outputs": [
    {
     "data": {
      "text/plain": "['NUEVA ERA , Ilocos Norte - No family shall be homeless under the watch of the municipal government here , said town Mayor Aldrin Garvida .']"
     },
     "execution_count": 141,
     "metadata": {},
     "output_type": "execute_result"
    }
   ],
   "source": [
    "all_df[all_df['par_id'] == 9]['text'].tolist()"
   ],
   "metadata": {
    "collapsed": false,
    "ExecuteTime": {
     "end_time": "2024-03-01T12:00:05.712069Z",
     "start_time": "2024-03-01T12:00:05.551371Z"
    }
   },
   "id": "f38d0c61c6423da2"
  },
  {
   "cell_type": "code",
   "execution_count": 142,
   "outputs": [
    {
     "data": {
      "text/plain": "\"In Libya today , there are countless number of Ghanaian and Nigerian immigrants . These are the two countries with key macroeconomic challenges including unemployment . Let 's tackle this issue from the root and not the fruit . Thank you\""
     },
     "execution_count": 142,
     "metadata": {},
     "output_type": "execute_result"
    }
   ],
   "source": [
    "all_df['text'].tolist()[1]"
   ],
   "metadata": {
    "collapsed": false,
    "ExecuteTime": {
     "end_time": "2024-03-01T12:00:05.712167Z",
     "start_time": "2024-03-01T12:00:05.554662Z"
    }
   },
   "id": "b941663ca67be784"
  },
  {
   "cell_type": "code",
   "execution_count": 143,
   "outputs": [
    {
     "data": {
      "text/plain": "       par_id    art_id   keyword country_code  \\\n33         34  24150149  disabled           ng   \n41         42   4591694  hopeless           jm   \n76         77  22454828  homeless           nz   \n82         83   4672144  homeless           pk   \n106       107  16900972  homeless           ke   \n...       ...       ...       ...          ...   \n10406   10407   1811952   in-need           tz   \n10407   10408   4542224  homeless           my   \n10423   10424   4665292     women           jm   \n10444   10445   3923193   refugee           gb   \n10466   10467  20282330   in-need           ng   \n\n                                                    text  label  binary_label  \n33     Fast food employee who fed disabled man become...    3.0           1.0  \n41     Vanessa had feelings of hopelessness in her fi...    3.0           1.0  \n76     In September , Major Nottle set off on foot fr...    3.0           1.0  \n82     The demographics of Pakistan and India are ver...    3.0           1.0  \n106    \"His present \"\" chambers \"\" may be quite humbl...    3.0           1.0  \n...                                                  ...    ...           ...  \n10406  \"He said his decision to help those in need di...    3.0           1.0  \n10407  \"\"\" Most of them ( the homeless ) have the abi...    3.0           1.0  \n10423  \"\"\" I do n't believe in abortion , I think it ...    3.0           1.0  \n10444  More than 150 volunteers spent the night in ' ...    3.0           1.0  \n10466  \"\"\" She has one huge platform , and informatio...    3.0           1.0  \n\n[457 rows x 7 columns]",
      "text/html": "<div>\n<style scoped>\n    .dataframe tbody tr th:only-of-type {\n        vertical-align: middle;\n    }\n\n    .dataframe tbody tr th {\n        vertical-align: top;\n    }\n\n    .dataframe thead th {\n        text-align: right;\n    }\n</style>\n<table border=\"1\" class=\"dataframe\">\n  <thead>\n    <tr style=\"text-align: right;\">\n      <th></th>\n      <th>par_id</th>\n      <th>art_id</th>\n      <th>keyword</th>\n      <th>country_code</th>\n      <th>text</th>\n      <th>label</th>\n      <th>binary_label</th>\n    </tr>\n  </thead>\n  <tbody>\n    <tr>\n      <th>33</th>\n      <td>34</td>\n      <td>24150149</td>\n      <td>disabled</td>\n      <td>ng</td>\n      <td>Fast food employee who fed disabled man become...</td>\n      <td>3.0</td>\n      <td>1.0</td>\n    </tr>\n    <tr>\n      <th>41</th>\n      <td>42</td>\n      <td>4591694</td>\n      <td>hopeless</td>\n      <td>jm</td>\n      <td>Vanessa had feelings of hopelessness in her fi...</td>\n      <td>3.0</td>\n      <td>1.0</td>\n    </tr>\n    <tr>\n      <th>76</th>\n      <td>77</td>\n      <td>22454828</td>\n      <td>homeless</td>\n      <td>nz</td>\n      <td>In September , Major Nottle set off on foot fr...</td>\n      <td>3.0</td>\n      <td>1.0</td>\n    </tr>\n    <tr>\n      <th>82</th>\n      <td>83</td>\n      <td>4672144</td>\n      <td>homeless</td>\n      <td>pk</td>\n      <td>The demographics of Pakistan and India are ver...</td>\n      <td>3.0</td>\n      <td>1.0</td>\n    </tr>\n    <tr>\n      <th>106</th>\n      <td>107</td>\n      <td>16900972</td>\n      <td>homeless</td>\n      <td>ke</td>\n      <td>\"His present \"\" chambers \"\" may be quite humbl...</td>\n      <td>3.0</td>\n      <td>1.0</td>\n    </tr>\n    <tr>\n      <th>...</th>\n      <td>...</td>\n      <td>...</td>\n      <td>...</td>\n      <td>...</td>\n      <td>...</td>\n      <td>...</td>\n      <td>...</td>\n    </tr>\n    <tr>\n      <th>10406</th>\n      <td>10407</td>\n      <td>1811952</td>\n      <td>in-need</td>\n      <td>tz</td>\n      <td>\"He said his decision to help those in need di...</td>\n      <td>3.0</td>\n      <td>1.0</td>\n    </tr>\n    <tr>\n      <th>10407</th>\n      <td>10408</td>\n      <td>4542224</td>\n      <td>homeless</td>\n      <td>my</td>\n      <td>\"\"\" Most of them ( the homeless ) have the abi...</td>\n      <td>3.0</td>\n      <td>1.0</td>\n    </tr>\n    <tr>\n      <th>10423</th>\n      <td>10424</td>\n      <td>4665292</td>\n      <td>women</td>\n      <td>jm</td>\n      <td>\"\"\" I do n't believe in abortion , I think it ...</td>\n      <td>3.0</td>\n      <td>1.0</td>\n    </tr>\n    <tr>\n      <th>10444</th>\n      <td>10445</td>\n      <td>3923193</td>\n      <td>refugee</td>\n      <td>gb</td>\n      <td>More than 150 volunteers spent the night in ' ...</td>\n      <td>3.0</td>\n      <td>1.0</td>\n    </tr>\n    <tr>\n      <th>10466</th>\n      <td>10467</td>\n      <td>20282330</td>\n      <td>in-need</td>\n      <td>ng</td>\n      <td>\"\"\" She has one huge platform , and informatio...</td>\n      <td>3.0</td>\n      <td>1.0</td>\n    </tr>\n  </tbody>\n</table>\n<p>457 rows × 7 columns</p>\n</div>"
     },
     "execution_count": 143,
     "metadata": {},
     "output_type": "execute_result"
    }
   ],
   "source": [
    "# condition a dataframe with binary_label ==0 and label == 1\n",
    "all_df[(all_df['binary_label'] == 1) & (all_df['label'] == 3)]"
   ],
   "metadata": {
    "collapsed": false,
    "ExecuteTime": {
     "end_time": "2024-03-01T12:00:05.712391Z",
     "start_time": "2024-03-01T12:00:05.558600Z"
    }
   },
   "id": "5ee558551385a413"
  },
  {
   "cell_type": "markdown",
   "source": [
    "### Pre-processing Plots"
   ],
   "metadata": {
    "collapsed": false
   },
   "id": "b60540fdcc89bde0"
  },
  {
   "cell_type": "code",
   "execution_count": 144,
   "outputs": [],
   "source": [
    "all_df['label'] = all_df['label'].astype('int')\n",
    "all_df['binary_label'] = all_df['binary_label'].astype('int')"
   ],
   "metadata": {
    "collapsed": false,
    "ExecuteTime": {
     "end_time": "2024-03-01T12:00:05.712437Z",
     "start_time": "2024-03-01T12:00:05.567280Z"
    }
   },
   "id": "2c49f8c7f04d064b"
  },
  {
   "cell_type": "code",
   "execution_count": 145,
   "outputs": [
    {
     "data": {
      "text/plain": "<Figure size 640x480 with 1 Axes>",
      "image/png": "[encoded data removed]"
     },
     "metadata": {},
     "output_type": "display_data"
    }
   ],
   "source": [
    "# A] Make a bar plot based on the column label. Put a different color for each label. Put a title and label the axes.\n",
    "# make the x axis angle 0. Convert x axis to integers\n",
    "import matplotlib.pyplot as plt\n",
    "\n",
    "all_df['binary_label'].value_counts().sort_index().plot(kind='bar', color=['green', 'blue'])\n",
    "plt.title('Label Distribution')\n",
    "plt.xlabel('PCL')\n",
    "plt.ylabel('Count')\n",
    "plt.xticks(rotation=0)\n",
    "plt.show()"
   ],
   "metadata": {
    "collapsed": false,
    "ExecuteTime": {
     "end_time": "2024-03-01T12:00:05.991956Z",
     "start_time": "2024-03-01T12:00:05.574660Z"
    }
   },
   "id": "b56d839c361fb15"
  },
  {
   "cell_type": "code",
   "execution_count": 146,
   "outputs": [
    {
     "data": {
      "text/plain": "<Figure size 640x480 with 1 Axes>",
      "image/png": "[encoded data removed]"
     },
     "metadata": {},
     "output_type": "display_data"
    }
   ],
   "source": [
    "# B] Make a bar plot based on the column label. Put a different color for each label. Put a title and label the axes.\n",
    "# make the x axis angle 0. sort by the value in the x axis\n",
    "import matplotlib.pyplot as plt\n",
    "\n",
    "all_df['label'].value_counts().sort_index().plot(kind='bar', color=['green', 'blue', 'purple', 'orange', 'red'])\n",
    "plt.title('Distribution of PCL Levels')\n",
    "plt.xlabel('Level of PCL')\n",
    "plt.ylabel('Count')\n",
    "plt.xticks(rotation=0)\n",
    "plt.show()\n"
   ],
   "metadata": {
    "collapsed": false,
    "ExecuteTime": {
     "end_time": "2024-03-01T12:00:06.061364Z",
     "start_time": "2024-03-01T12:00:05.999777Z"
    }
   },
   "id": "727365e3bb121365"
  },
  {
   "cell_type": "code",
   "execution_count": 147,
   "outputs": [
    {
     "data": {
      "text/plain": "<Figure size 640x480 with 1 Axes>",
      "image/png": "[encoded data removed]"
     },
     "metadata": {},
     "output_type": "display_data"
    }
   ],
   "source": [
    "# C] Make a double bar plot where the x axis are different communities and y axis is the count per label class. Each community should have 2 ba plots. Put a different color for each label. Put a title and label the axes.\n",
    "# make the x axis angle 45\n",
    "\n",
    "all_df.groupby(['keyword', 'binary_label']).size().unstack().plot(kind='bar', stacked=False, color=['green', 'blue'])\n",
    "plt.title('Community Label Distribution')\n",
    "plt.xlabel('Community')\n",
    "plt.ylabel('Count')\n",
    "plt.xticks(rotation=45)\n",
    "plt.show()\n",
    "\n"
   ],
   "metadata": {
    "collapsed": false,
    "ExecuteTime": {
     "end_time": "2024-03-01T12:00:06.173854Z",
     "start_time": "2024-03-01T12:00:06.062190Z"
    }
   },
   "id": "5e4b96cc56c4d315"
  },
  {
   "cell_type": "code",
   "execution_count": 148,
   "outputs": [
    {
     "data": {
      "text/plain": "<Figure size 640x480 with 1 Axes>",
      "image/png": "[encoded data removed]"
     },
     "metadata": {},
     "output_type": "display_data"
    }
   ],
   "source": [
    "# D] make the same for the column of countries\n",
    "\n",
    "all_df.groupby(['country_code', 'binary_label']).size().unstack().plot(kind='bar', stacked=False, color=['green', 'blue'])\n",
    "plt.title('Country Label Distribution')\n",
    "plt.xlabel('Country')\n",
    "plt.ylabel('Count')\n",
    "plt.xticks(rotation=45)\n",
    "plt.show()\n"
   ],
   "metadata": {
    "collapsed": false,
    "ExecuteTime": {
     "end_time": "2024-03-01T12:00:06.286162Z",
     "start_time": "2024-03-01T12:00:06.175216Z"
    }
   },
   "id": "e38b6ace695ac5f3"
  },
  {
   "cell_type": "code",
   "execution_count": 149,
   "outputs": [
    {
     "data": {
      "text/plain": "<Figure size 640x480 with 1 Axes>",
      "image/png": "[encoded data removed]"
     },
     "metadata": {},
     "output_type": "display_data"
    }
   ],
   "source": [
    "# Calculate the length of each text and put it in a new column. Then make a box plot of the length of the texts. Put a title and label the axes.\n",
    "# One box plot per ninary label category. Plot the mean and median explicitely in the y axis\n",
    "# Disable the first title of the two\n",
    "\n",
    "all_df['text_length'] = all_df['text'].apply(lambda x: len(x.split()))\n",
    "all_df.boxplot(column='text_length', by='binary_label', showmeans=True, showfliers=True)\n",
    "plt.title('')\n",
    "plt.suptitle('Text Length Distribution')\n",
    "plt.xlabel('PCL')\n",
    "plt.ylabel('Text Length')\n",
    "plt.show()\n",
    "\n"
   ],
   "metadata": {
    "collapsed": false,
    "ExecuteTime": {
     "end_time": "2024-03-01T12:00:06.363725Z",
     "start_time": "2024-03-01T12:00:06.311615Z"
    }
   },
   "id": "f48054be5b5033d6"
  },
  {
   "cell_type": "markdown",
   "source": [
    "### F1 plots"
   ],
   "metadata": {
    "collapsed": false
   },
   "id": "1200378e078af591"
  },
  {
   "cell_type": "markdown",
   "source": [
    "#### Evaluate the total f1"
   ],
   "metadata": {
    "collapsed": false
   },
   "id": "df1509ae541ec8d"
  },
  {
   "cell_type": "code",
   "execution_count": 150,
   "outputs": [],
   "source": [
    "from transformers import BertModel, BertPreTrainedModel\n",
    "import torch\n",
    "from torch.utils.data import DataLoader"
   ],
   "metadata": {
    "collapsed": false,
    "ExecuteTime": {
     "end_time": "2024-03-01T12:00:06.365333Z",
     "start_time": "2024-03-01T12:00:06.364243Z"
    }
   },
   "id": "e042580a3d3c3074"
  },
  {
   "cell_type": "code",
   "execution_count": 151,
   "outputs": [],
   "source": [
    "path = '/Users/gouse/PycharmProjects/NLP/labs_2023_2024/CW/data/baseline_preprocessed_csvs'\n",
    "tedf= pd.read_csv(path+'/tedf1.csv')\n",
    "tedf.dropna(inplace=True)"
   ],
   "metadata": {
    "collapsed": false,
    "ExecuteTime": {
     "end_time": "2024-03-01T12:00:06.374945Z",
     "start_time": "2024-03-01T12:00:06.367071Z"
    }
   },
   "id": "6cd493e63a4bb358"
  },
  {
   "cell_type": "code",
   "execution_count": 152,
   "outputs": [
    {
     "data": {
      "text/plain": "      par_id   community                                               text  \\\n0       4046    hopeless  We also know that they can benefit by receivin...   \n1       1279     refugee  Pope Francis washed and kissed the feet of Mus...   \n2       8330     refugee  Many refugees do n't want to be resettled anyw...   \n3       4063     in-need  \"Budding chefs , like \"\" Fred \"\" , \"\" Winston ...   \n4       4089    homeless  \"In a 90-degree view of his constituency , one...   \n...      ...         ...                                                ...   \n2089   10462    homeless  The sad spectacle , which occurred on Saturday...   \n2090   10463     refugee  \"\"\" The Pakistani police came to our house and...   \n2091   10464    disabled  \"When Marie O'Donoghue went looking for a spec...   \n2092   10465       women  \"Sri Lankan norms and culture inhibit women fr...   \n2093   10466  vulnerable  He added that the AFP will continue to bank on...   \n\n      label  \n0         1  \n1         1  \n2         1  \n3         1  \n4         1  \n...     ...  \n2089      0  \n2090      0  \n2091      0  \n2092      0  \n2093      0  \n\n[2093 rows x 4 columns]",
      "text/html": "<div>\n<style scoped>\n    .dataframe tbody tr th:only-of-type {\n        vertical-align: middle;\n    }\n\n    .dataframe tbody tr th {\n        vertical-align: top;\n    }\n\n    .dataframe thead th {\n        text-align: right;\n    }\n</style>\n<table border=\"1\" class=\"dataframe\">\n  <thead>\n    <tr style=\"text-align: right;\">\n      <th></th>\n      <th>par_id</th>\n      <th>community</th>\n      <th>text</th>\n      <th>label</th>\n    </tr>\n  </thead>\n  <tbody>\n    <tr>\n      <th>0</th>\n      <td>4046</td>\n      <td>hopeless</td>\n      <td>We also know that they can benefit by receivin...</td>\n      <td>1</td>\n    </tr>\n    <tr>\n      <th>1</th>\n      <td>1279</td>\n      <td>refugee</td>\n      <td>Pope Francis washed and kissed the feet of Mus...</td>\n      <td>1</td>\n    </tr>\n    <tr>\n      <th>2</th>\n      <td>8330</td>\n      <td>refugee</td>\n      <td>Many refugees do n't want to be resettled anyw...</td>\n      <td>1</td>\n    </tr>\n    <tr>\n      <th>3</th>\n      <td>4063</td>\n      <td>in-need</td>\n      <td>\"Budding chefs , like \"\" Fred \"\" , \"\" Winston ...</td>\n      <td>1</td>\n    </tr>\n    <tr>\n      <th>4</th>\n      <td>4089</td>\n      <td>homeless</td>\n      <td>\"In a 90-degree view of his constituency , one...</td>\n      <td>1</td>\n    </tr>\n    <tr>\n      <th>...</th>\n      <td>...</td>\n      <td>...</td>\n      <td>...</td>\n      <td>...</td>\n    </tr>\n    <tr>\n      <th>2089</th>\n      <td>10462</td>\n      <td>homeless</td>\n      <td>The sad spectacle , which occurred on Saturday...</td>\n      <td>0</td>\n    </tr>\n    <tr>\n      <th>2090</th>\n      <td>10463</td>\n      <td>refugee</td>\n      <td>\"\"\" The Pakistani police came to our house and...</td>\n      <td>0</td>\n    </tr>\n    <tr>\n      <th>2091</th>\n      <td>10464</td>\n      <td>disabled</td>\n      <td>\"When Marie O'Donoghue went looking for a spec...</td>\n      <td>0</td>\n    </tr>\n    <tr>\n      <th>2092</th>\n      <td>10465</td>\n      <td>women</td>\n      <td>\"Sri Lankan norms and culture inhibit women fr...</td>\n      <td>0</td>\n    </tr>\n    <tr>\n      <th>2093</th>\n      <td>10466</td>\n      <td>vulnerable</td>\n      <td>He added that the AFP will continue to bank on...</td>\n      <td>0</td>\n    </tr>\n  </tbody>\n</table>\n<p>2093 rows × 4 columns</p>\n</div>"
     },
     "execution_count": 152,
     "metadata": {},
     "output_type": "execute_result"
    }
   ],
   "source": [
    "tedf"
   ],
   "metadata": {
    "collapsed": false,
    "ExecuteTime": {
     "end_time": "2024-03-01T12:00:06.382943Z",
     "start_time": "2024-03-01T12:00:06.379563Z"
    }
   },
   "id": "79edb850f7ff7304"
  },
  {
   "cell_type": "code",
   "execution_count": 153,
   "outputs": [
    {
     "data": {
      "text/plain": "       par_id    art_id        keyword country_code  \\\n106       107  16900972       homeless           ke   \n148       149   1387882       disabled           us   \n150       151  19974860  poor-families           in   \n153       154  20663936       disabled           ng   \n156       157  21712008  poor-families           ca   \n...       ...       ...            ...          ...   \n10462   10463   4676355        refugee           pk   \n10463   10464  19612634       disabled           ie   \n10464   10465  14297363          women           lk   \n10465   10466  70091353     vulnerable           ph   \n10467   10468  16753236       hopeless           in   \n\n                                                    text  label  binary_label  \\\n106    \"His present \"\" chambers \"\" may be quite humbl...      3             1   \n148    Krueger recently harnessed that creativity to ...      2             1   \n150    10:41am - Parents of children who died must ge...      3             1   \n153    When some people feel causing problem for some...      4             1   \n156    We are alarmed to learn of your recently circu...      4             1   \n...                                                  ...    ...           ...   \n10462  \"\"\" The Pakistani police came to our house and...      0             0   \n10463  \"When Marie O'Donoghue went looking for a spec...      0             0   \n10464  \"Sri Lankan norms and culture inhibit women fr...      1             0   \n10465  He added that the AFP will continue to bank on...      0             0   \n10467  \"\"\" Anja Ringgren Loven I ca n't find a word t...      4             1   \n\n       text_length  \n106             75  \n148             54  \n150             25  \n153            101  \n156            101  \n...            ...  \n10462           37  \n10463           38  \n10464           64  \n10465           43  \n10467          107  \n\n[2093 rows x 8 columns]",
      "text/html": "<div>\n<style scoped>\n    .dataframe tbody tr th:only-of-type {\n        vertical-align: middle;\n    }\n\n    .dataframe tbody tr th {\n        vertical-align: top;\n    }\n\n    .dataframe thead th {\n        text-align: right;\n    }\n</style>\n<table border=\"1\" class=\"dataframe\">\n  <thead>\n    <tr style=\"text-align: right;\">\n      <th></th>\n      <th>par_id</th>\n      <th>art_id</th>\n      <th>keyword</th>\n      <th>country_code</th>\n      <th>text</th>\n      <th>label</th>\n      <th>binary_label</th>\n      <th>text_length</th>\n    </tr>\n  </thead>\n  <tbody>\n    <tr>\n      <th>106</th>\n      <td>107</td>\n      <td>16900972</td>\n      <td>homeless</td>\n      <td>ke</td>\n      <td>\"His present \"\" chambers \"\" may be quite humbl...</td>\n      <td>3</td>\n      <td>1</td>\n      <td>75</td>\n    </tr>\n    <tr>\n      <th>148</th>\n      <td>149</td>\n      <td>1387882</td>\n      <td>disabled</td>\n      <td>us</td>\n      <td>Krueger recently harnessed that creativity to ...</td>\n      <td>2</td>\n      <td>1</td>\n      <td>54</td>\n    </tr>\n    <tr>\n      <th>150</th>\n      <td>151</td>\n      <td>19974860</td>\n      <td>poor-families</td>\n      <td>in</td>\n      <td>10:41am - Parents of children who died must ge...</td>\n      <td>3</td>\n      <td>1</td>\n      <td>25</td>\n    </tr>\n    <tr>\n      <th>153</th>\n      <td>154</td>\n      <td>20663936</td>\n      <td>disabled</td>\n      <td>ng</td>\n      <td>When some people feel causing problem for some...</td>\n      <td>4</td>\n      <td>1</td>\n      <td>101</td>\n    </tr>\n    <tr>\n      <th>156</th>\n      <td>157</td>\n      <td>21712008</td>\n      <td>poor-families</td>\n      <td>ca</td>\n      <td>We are alarmed to learn of your recently circu...</td>\n      <td>4</td>\n      <td>1</td>\n      <td>101</td>\n    </tr>\n    <tr>\n      <th>...</th>\n      <td>...</td>\n      <td>...</td>\n      <td>...</td>\n      <td>...</td>\n      <td>...</td>\n      <td>...</td>\n      <td>...</td>\n      <td>...</td>\n    </tr>\n    <tr>\n      <th>10462</th>\n      <td>10463</td>\n      <td>4676355</td>\n      <td>refugee</td>\n      <td>pk</td>\n      <td>\"\"\" The Pakistani police came to our house and...</td>\n      <td>0</td>\n      <td>0</td>\n      <td>37</td>\n    </tr>\n    <tr>\n      <th>10463</th>\n      <td>10464</td>\n      <td>19612634</td>\n      <td>disabled</td>\n      <td>ie</td>\n      <td>\"When Marie O'Donoghue went looking for a spec...</td>\n      <td>0</td>\n      <td>0</td>\n      <td>38</td>\n    </tr>\n    <tr>\n      <th>10464</th>\n      <td>10465</td>\n      <td>14297363</td>\n      <td>women</td>\n      <td>lk</td>\n      <td>\"Sri Lankan norms and culture inhibit women fr...</td>\n      <td>1</td>\n      <td>0</td>\n      <td>64</td>\n    </tr>\n    <tr>\n      <th>10465</th>\n      <td>10466</td>\n      <td>70091353</td>\n      <td>vulnerable</td>\n      <td>ph</td>\n      <td>He added that the AFP will continue to bank on...</td>\n      <td>0</td>\n      <td>0</td>\n      <td>43</td>\n    </tr>\n    <tr>\n      <th>10467</th>\n      <td>10468</td>\n      <td>16753236</td>\n      <td>hopeless</td>\n      <td>in</td>\n      <td>\"\"\" Anja Ringgren Loven I ca n't find a word t...</td>\n      <td>4</td>\n      <td>1</td>\n      <td>107</td>\n    </tr>\n  </tbody>\n</table>\n<p>2093 rows × 8 columns</p>\n</div>"
     },
     "execution_count": 153,
     "metadata": {},
     "output_type": "execute_result"
    }
   ],
   "source": [
    "tedf_full = all_df[all_df.par_id.isin(tedf.par_id)]\n",
    "tedf_full"
   ],
   "metadata": {
    "collapsed": false,
    "ExecuteTime": {
     "end_time": "2024-03-01T12:00:06.428944Z",
     "start_time": "2024-03-01T12:00:06.383216Z"
    }
   },
   "id": "7d15af3fe5fa7785"
  },
  {
   "cell_type": "code",
   "execution_count": 161,
   "outputs": [
    {
     "data": {
      "text/plain": "272"
     },
     "execution_count": 161,
     "metadata": {},
     "output_type": "execute_result"
    }
   ],
   "source": [
    "tedf_full['text_length'].max()"
   ],
   "metadata": {
    "collapsed": false,
    "ExecuteTime": {
     "end_time": "2024-03-01T12:13:00.313834Z",
     "start_time": "2024-03-01T12:13:00.296401Z"
    }
   },
   "id": "d4c4aabe7088965f"
  },
  {
   "cell_type": "code",
   "execution_count": 154,
   "outputs": [],
   "source": [
    "import torch\n",
    "import transformers\n",
    "from transformers import BertTokenizer\n",
    "import torch.nn as nn\n",
    "from torch.utils.data import DataLoader\n",
    "from tqdm.notebook import tqdm\n",
    "\n",
    "\n",
    "class PCLDataset(torch.utils.data.Dataset):\n",
    "\n",
    "    def __init__(self, tokenizer, dataframe):\n",
    "        self.tokenizer = tokenizer\n",
    "        self.dataframe = dataframe\n",
    "\n",
    "    def collate_fn(self, batch):\n",
    "        #tokenize the text data in the batch\n",
    "        #convert them from strings of text into tensors of numerical values\n",
    "        #each item represented by a dictionary with 'text' and 'label' as keys\n",
    "        #prepare batches from the dataset (includes tokenizing the texts and converting labels to tensors)\n",
    "        texts = [item['text'] for item in batch]\n",
    "        labels = torch.tensor([item['label'] for item in batch])\n",
    "\n",
    "        # Tokenize texts and pad/truncate to a max length of 128 tokens\n",
    "        encodings = self.tokenizer(texts, return_tensors='pt', padding=True, truncation=True, max_length=128)\n",
    "        labels = torch.tensor(labels)  #convert list of labels for the current batch into a tensor\n",
    "\n",
    "        # Add labels to the encodings\n",
    "        encodings['labels'] = labels\n",
    "\n",
    "        return encodings\n",
    "        #collate_fn returns a dictionary containing key-value pairs (the tokenised and encoded representations\n",
    "        #of the texts and the corresponding labels)\n",
    "        #also includes attention masks\n",
    "\n",
    "    def __len__(self):\n",
    "        return len(self.dataframe)\n",
    "\n",
    "    def __getitem__(self, idx):\n",
    "        # Retrieve data point from dataframe\n",
    "        row = self.dataframe.iloc[idx]\n",
    "        text = row['text']\n",
    "        label = row['label']\n",
    "        return {'text': text, 'label': label}"
   ],
   "metadata": {
    "collapsed": false,
    "ExecuteTime": {
     "end_time": "2024-03-01T12:00:06.445259Z",
     "start_time": "2024-03-01T12:00:06.391442Z"
    }
   },
   "id": "581e26ea5026d9da"
  },
  {
   "cell_type": "code",
   "execution_count": 155,
   "outputs": [],
   "source": [
    "tokenizer = BertTokenizer.from_pretrained('bert-base-cased')\n",
    "test_dataset = PCLDataset(tokenizer, tedf)"
   ],
   "metadata": {
    "collapsed": false,
    "ExecuteTime": {
     "end_time": "2024-03-01T12:00:06.580495Z",
     "start_time": "2024-03-01T12:00:06.419827Z"
    }
   },
   "id": "5ee684e1c0d30021"
  },
  {
   "cell_type": "code",
   "execution_count": 156,
   "outputs": [],
   "source": [
    "class BERTModelCustom(BertPreTrainedModel):\n",
    "\n",
    "    def __init__(self, config):\n",
    "        super().__init__(config)\n",
    "\n",
    "        # BERT Model\n",
    "        #self.bert = RobertaModel(config)\n",
    "        self.bert = BertModel(config)\n",
    "\n",
    "        # Task A\n",
    "        self.projection_a = torch.nn.Sequential(torch.nn.Dropout(0.2),\n",
    "                                                torch.nn.Linear(config.hidden_size, 2))\n",
    "\n",
    "\n",
    "        #self.projection_a = nn.Sequential(\n",
    "            #nn.Linear(config.hidden_size, 512),\n",
    "            #nn.BatchNorm1d(512),\n",
    "            #nn.ReLU(),\n",
    "            #nn.Dropout(0.1),\n",
    "            #nn.Linear(512, 128),\n",
    "            #nn.BatchNorm1d(128),\n",
    "            #nn.ReLU(),\n",
    "            #nn.Dropout(0.1),\n",
    "            #nn.Linear(128, 2)\n",
    "        #)\n",
    "\n",
    "        #self.activation_function = nn.Sigmoid()\n",
    "\n",
    "        self.init_weights()\n",
    "\n",
    "        # Freeze Roberta's weights\n",
    "        # for param in self.bert.parameters():\n",
    "        #     param.requires_grad = False\n",
    "\n",
    "    def forward(\n",
    "        self,\n",
    "        input_ids=None,\n",
    "        attention_mask=None,\n",
    "        token_type_ids=None,\n",
    "        position_ids=None,\n",
    "        head_mask=None,\n",
    "        inputs_embeds=None,\n",
    "        labels=None,\n",
    "        output_attentions=None,\n",
    "        output_hidden_states=None,\n",
    "        return_dict=None):\n",
    "\n",
    "        outputs = self.bert(\n",
    "            input_ids,\n",
    "            attention_mask=attention_mask,\n",
    "            token_type_ids=token_type_ids,\n",
    "            position_ids=position_ids,\n",
    "            head_mask=head_mask,\n",
    "            inputs_embeds=inputs_embeds,\n",
    "            output_attentions=output_attentions,\n",
    "            output_hidden_states=output_hidden_states,\n",
    "            return_dict=return_dict,\n",
    "        )\n",
    "\n",
    "        # Logits A\n",
    "        logits = self.projection_a(outputs[1])\n",
    "        #logits = self.activation_function(logits)\n",
    "\n",
    "        return logits"
   ],
   "metadata": {
    "collapsed": false,
    "ExecuteTime": {
     "end_time": "2024-03-01T12:00:06.587027Z",
     "start_time": "2024-03-01T12:00:06.582731Z"
    }
   },
   "id": "8d8f868f53e2c196"
  },
  {
   "cell_type": "code",
   "execution_count": 157,
   "outputs": [],
   "source": [
    "from sklearn.metrics import classification_report\n",
    "import numpy as np\n",
    "\n",
    "def evaluate(model, tokenizer, data_loader):\n",
    "\n",
    "    model.eval()  # Set the model to evaluation mode\n",
    "\n",
    "    total_count = 0\n",
    "    correct_count = 0\n",
    "\n",
    "    preds = []\n",
    "    tot_labels = []\n",
    "\n",
    "    with torch.no_grad():\n",
    "        for batch in tqdm(data_loader):\n",
    "          #every batch is a dictionary containing\n",
    "          #'input_ids', 'attention_mask' and 'labels'\n",
    "            input_ids = batch['input_ids']\n",
    "            attention_mask = batch['attention_mask']\n",
    "            labels = batch['labels']\n",
    "\n",
    "            outputs = model(input_ids, attention_mask=attention_mask)\n",
    "            logits = outputs #raw model outputs before softmax\n",
    "\n",
    "            # Move logits and labels to CPU\n",
    "            logits = logits.detach().cpu().numpy()\n",
    "            label_ids = labels.to('cpu').numpy()\n",
    "\n",
    "            # Calculate predictions\n",
    "            batch_preds = np.argmax(logits, axis=1) #determine predicted class based on the\n",
    "            #highest logit value of the data sample in the batch\n",
    "            preds.extend(batch_preds)\n",
    "            tot_labels.extend(label_ids)\n",
    "\n",
    "    # Calculate performance metrics\n",
    "    report = classification_report(tot_labels, preds, target_names=[\"Not PCL\", \"PCL\"], output_dict=True)\n",
    "\n",
    "    return report"
   ],
   "metadata": {
    "collapsed": false,
    "ExecuteTime": {
     "end_time": "2024-03-01T12:00:06.593434Z",
     "start_time": "2024-03-01T12:00:06.587654Z"
    }
   },
   "id": "27fba4385bb3b34a"
  },
  {
   "cell_type": "code",
   "execution_count": 158,
   "outputs": [
    {
     "data": {
      "text/plain": "  0%|          | 0/66 [00:00<?, ?it/s]",
      "application/vnd.jupyter.widget-view+json": {
       "version_major": 2,
       "version_minor": 0,
       "model_id": "4160dafff6f1455ea2216bb4ad842ac4"
      }
     },
     "metadata": {},
     "output_type": "display_data"
    },
    {
     "name": "stderr",
     "output_type": "stream",
     "text": [
      "/var/folders/s6/pzn2mzln089b14702jlw7cqm0000gn/T/ipykernel_69807/1759305414.py:25: UserWarning: To copy construct from a tensor, it is recommended to use sourceTensor.clone().detach() or sourceTensor.clone().detach().requires_grad_(True), rather than torch.tensor(sourceTensor).\n",
      "  labels = torch.tensor(labels)  #convert list of labels for the current batch into a tensor\n"
     ]
    },
    {
     "name": "stdout",
     "output_type": "stream",
     "text": [
      "F1-score on dev:{'Not PCL': {'precision': 0.9462809917355371, 'recall': 0.9672650475184794, 'f1-score': 0.9566579634464752, 'support': 1894.0}, 'PCL': {'precision': 0.6050955414012739, 'recall': 0.47738693467336685, 'f1-score': 0.5337078651685393, 'support': 199.0}, 'accuracy': 0.9206880076445294, 'macro avg': {'precision': 0.7756882665684055, 'recall': 0.7223259910959231, 'f1-score': 0.7451829143075073, 'support': 2093.0}, 'weighted avg': {'precision': 0.913841476868591, 'recall': 0.9206880076445294, 'f1-score': 0.9164443611735132, 'support': 2093.0}}\n"
     ]
    }
   ],
   "source": [
    "#your saved model name here\n",
    "\n",
    "model_name = '/Users/gouse/PycharmProjects/NLP/labs_2023_2024/CW/models/models/final_model/'\n",
    "model = BERTModelCustom.from_pretrained(model_name)\n",
    "\n",
    "# we don't batch our test set unless it's too big\n",
    "validation_loader = DataLoader(test_dataset, batch_size=32, shuffle=False, collate_fn=test_dataset.collate_fn)\n",
    "#test_loader = DataLoader(test_dataset)\n",
    "\n",
    "report = evaluate(model, tokenizer, validation_loader)\n",
    "\n",
    "print(f\"F1-score on dev:{report}\")"
   ],
   "metadata": {
    "collapsed": false,
    "ExecuteTime": {
     "end_time": "2024-03-01T12:01:10.710736Z",
     "start_time": "2024-03-01T12:00:06.589815Z"
    }
   },
   "id": "5fc2337b7225da76"
  },
  {
   "cell_type": "markdown",
   "source": [
    "#### Evaluate the f1 per type"
   ],
   "metadata": {
    "collapsed": false
   },
   "id": "6158b2802b628785"
  },
  {
   "cell_type": "code",
   "execution_count": 208,
   "outputs": [
    {
     "data": {
      "text/plain": "47.434304825609175"
     },
     "execution_count": 208,
     "metadata": {},
     "output_type": "execute_result"
    }
   ],
   "source": [
    "tedf_full[\"text_length\"].mean()"
   ],
   "metadata": {
    "collapsed": false,
    "ExecuteTime": {
     "end_time": "2024-03-01T12:45:43.151740Z",
     "start_time": "2024-03-01T12:45:43.122427Z"
    }
   },
   "id": "ddc418181cbeae0f"
  },
  {
   "cell_type": "code",
   "execution_count": 193,
   "outputs": [
    {
     "data": {
      "text/plain": "       par_id    art_id        keyword country_code  \\\n106       107  16900972       homeless           ke   \n649       650  26073438        in-need           in   \n1062     1063  16536265       hopeless           nz   \n1199     1200  19096840       homeless           lk   \n1647     1648  18432489          women           za   \n...       ...       ...            ...          ...   \n10435   10436  16709748       homeless           in   \n10440   10441  24581066        migrant           ca   \n10443   10444  20769616  poor-families           ng   \n10445   10446  13668760      immigrant           nz   \n10459   10460  23765535          women           sg   \n\n                                                    text  label  binary_label  \\\n106    \"His present \"\" chambers \"\" may be quite humbl...      3             1   \n649    \"When contacted , Yadav said , \"\" There are tw...      4             1   \n1062   \"\"\" So many of us see the state of our home as...      4             1   \n1199   On the eve of the World Refugee Day , UNHCR re...      4             1   \n1647   \"Mari ? tte Coetzee from Stofberg Family Viney...      3             1   \n...                                                  ...    ...           ...   \n10435  There are around 90 flyovers in the national c...      0             0   \n10440  Now , after four years since he founded the LC...      0             0   \n10443  Desertification which affects Yunusari , Yusuf...      1             0   \n10445  I never thought I 'd write this : is there a g...      0             0   \n10459  \"When Sen. Elizabeth Warren was attempting to ...      0             0   \n\n       text_length text_length_bins  \n106             75          [0,100]  \n649             82          [0,100]  \n1062            86          [0,100]  \n1199            77          [0,100]  \n1647            76          [0,100]  \n...            ...              ...  \n10435           89          [0,100]  \n10440           83          [0,100]  \n10443           93          [0,100]  \n10445           73          [0,100]  \n10459           76          [0,100]  \n\n[229 rows x 9 columns]",
      "text/html": "<div>\n<style scoped>\n    .dataframe tbody tr th:only-of-type {\n        vertical-align: middle;\n    }\n\n    .dataframe tbody tr th {\n        vertical-align: top;\n    }\n\n    .dataframe thead th {\n        text-align: right;\n    }\n</style>\n<table border=\"1\" class=\"dataframe\">\n  <thead>\n    <tr style=\"text-align: right;\">\n      <th></th>\n      <th>par_id</th>\n      <th>art_id</th>\n      <th>keyword</th>\n      <th>country_code</th>\n      <th>text</th>\n      <th>label</th>\n      <th>binary_label</th>\n      <th>text_length</th>\n      <th>text_length_bins</th>\n    </tr>\n  </thead>\n  <tbody>\n    <tr>\n      <th>106</th>\n      <td>107</td>\n      <td>16900972</td>\n      <td>homeless</td>\n      <td>ke</td>\n      <td>\"His present \"\" chambers \"\" may be quite humbl...</td>\n      <td>3</td>\n      <td>1</td>\n      <td>75</td>\n      <td>[0,100]</td>\n    </tr>\n    <tr>\n      <th>649</th>\n      <td>650</td>\n      <td>26073438</td>\n      <td>in-need</td>\n      <td>in</td>\n      <td>\"When contacted , Yadav said , \"\" There are tw...</td>\n      <td>4</td>\n      <td>1</td>\n      <td>82</td>\n      <td>[0,100]</td>\n    </tr>\n    <tr>\n      <th>1062</th>\n      <td>1063</td>\n      <td>16536265</td>\n      <td>hopeless</td>\n      <td>nz</td>\n      <td>\"\"\" So many of us see the state of our home as...</td>\n      <td>4</td>\n      <td>1</td>\n      <td>86</td>\n      <td>[0,100]</td>\n    </tr>\n    <tr>\n      <th>1199</th>\n      <td>1200</td>\n      <td>19096840</td>\n      <td>homeless</td>\n      <td>lk</td>\n      <td>On the eve of the World Refugee Day , UNHCR re...</td>\n      <td>4</td>\n      <td>1</td>\n      <td>77</td>\n      <td>[0,100]</td>\n    </tr>\n    <tr>\n      <th>1647</th>\n      <td>1648</td>\n      <td>18432489</td>\n      <td>women</td>\n      <td>za</td>\n      <td>\"Mari ? tte Coetzee from Stofberg Family Viney...</td>\n      <td>3</td>\n      <td>1</td>\n      <td>76</td>\n      <td>[0,100]</td>\n    </tr>\n    <tr>\n      <th>...</th>\n      <td>...</td>\n      <td>...</td>\n      <td>...</td>\n      <td>...</td>\n      <td>...</td>\n      <td>...</td>\n      <td>...</td>\n      <td>...</td>\n      <td>...</td>\n    </tr>\n    <tr>\n      <th>10435</th>\n      <td>10436</td>\n      <td>16709748</td>\n      <td>homeless</td>\n      <td>in</td>\n      <td>There are around 90 flyovers in the national c...</td>\n      <td>0</td>\n      <td>0</td>\n      <td>89</td>\n      <td>[0,100]</td>\n    </tr>\n    <tr>\n      <th>10440</th>\n      <td>10441</td>\n      <td>24581066</td>\n      <td>migrant</td>\n      <td>ca</td>\n      <td>Now , after four years since he founded the LC...</td>\n      <td>0</td>\n      <td>0</td>\n      <td>83</td>\n      <td>[0,100]</td>\n    </tr>\n    <tr>\n      <th>10443</th>\n      <td>10444</td>\n      <td>20769616</td>\n      <td>poor-families</td>\n      <td>ng</td>\n      <td>Desertification which affects Yunusari , Yusuf...</td>\n      <td>1</td>\n      <td>0</td>\n      <td>93</td>\n      <td>[0,100]</td>\n    </tr>\n    <tr>\n      <th>10445</th>\n      <td>10446</td>\n      <td>13668760</td>\n      <td>immigrant</td>\n      <td>nz</td>\n      <td>I never thought I 'd write this : is there a g...</td>\n      <td>0</td>\n      <td>0</td>\n      <td>73</td>\n      <td>[0,100]</td>\n    </tr>\n    <tr>\n      <th>10459</th>\n      <td>10460</td>\n      <td>23765535</td>\n      <td>women</td>\n      <td>sg</td>\n      <td>\"When Sen. Elizabeth Warren was attempting to ...</td>\n      <td>0</td>\n      <td>0</td>\n      <td>76</td>\n      <td>[0,100]</td>\n    </tr>\n  </tbody>\n</table>\n<p>229 rows × 9 columns</p>\n</div>"
     },
     "execution_count": 193,
     "metadata": {},
     "output_type": "execute_result"
    }
   ],
   "source": [
    "tedf_full[(tedf_full[\"text_length\"] < 100) & (tedf_full[\"text_length\"] > 70)]"
   ],
   "metadata": {
    "collapsed": false,
    "ExecuteTime": {
     "end_time": "2024-03-01T12:34:05.871800Z",
     "start_time": "2024-03-01T12:34:05.849149Z"
    }
   },
   "id": "f5ce686dde38c271"
  },
  {
   "cell_type": "code",
   "execution_count": 202,
   "outputs": [
    {
     "data": {
      "text/plain": "       par_id    art_id        keyword country_code  \\\n153       154  20663936       disabled           ng   \n156       157  21712008  poor-families           ca   \n1207     1208   1812127     vulnerable           ng   \n2350     2351  23798722       homeless           gh   \n4683     4684   4540736       hopeless           pk   \n...       ...       ...            ...          ...   \n10345   10346  24507290      immigrant           ng   \n10380   10381   2268760        migrant           us   \n10402   10403  14799035       disabled           ng   \n10452   10453  18620867  poor-families           pk   \n10467   10468  16753236       hopeless           in   \n\n                                                    text  label  binary_label  \\\n153    When some people feel causing problem for some...      4             1   \n156    We are alarmed to learn of your recently circu...      4             1   \n1207   It is written in Ecclessiastes in the Bible th...      4             1   \n2350   \"She remembers how hard being homeless hit her...      3             1   \n4683   While male prisoners in Pakistan also suffer ,...      3             1   \n...                                                  ...    ...           ...   \n10345  \"A Nigerian-American , Alexis Okeowo , shoulde...      0             0   \n10380  \"\"\" The best thing that happened , 3 million p...      0             0   \n10402  Justice is on crutches in Nigeria , severely e...      0             0   \n10452  \"Provincial Minister Schools Education Rana Ma...      1             0   \n10467  \"\"\" Anja Ringgren Loven I ca n't find a word t...      4             1   \n\n       text_length text_length_bins  \n153            101          100-300  \n156            101          100-300  \n1207           165          100-300  \n2350           120          100-300  \n4683           107          100-300  \n...            ...              ...  \n10345          188          100-300  \n10380          107          100-300  \n10402          103          100-300  \n10452          177          100-300  \n10467          107          100-300  \n\n[100 rows x 9 columns]",
      "text/html": "<div>\n<style scoped>\n    .dataframe tbody tr th:only-of-type {\n        vertical-align: middle;\n    }\n\n    .dataframe tbody tr th {\n        vertical-align: top;\n    }\n\n    .dataframe thead th {\n        text-align: right;\n    }\n</style>\n<table border=\"1\" class=\"dataframe\">\n  <thead>\n    <tr style=\"text-align: right;\">\n      <th></th>\n      <th>par_id</th>\n      <th>art_id</th>\n      <th>keyword</th>\n      <th>country_code</th>\n      <th>text</th>\n      <th>label</th>\n      <th>binary_label</th>\n      <th>text_length</th>\n      <th>text_length_bins</th>\n    </tr>\n  </thead>\n  <tbody>\n    <tr>\n      <th>153</th>\n      <td>154</td>\n      <td>20663936</td>\n      <td>disabled</td>\n      <td>ng</td>\n      <td>When some people feel causing problem for some...</td>\n      <td>4</td>\n      <td>1</td>\n      <td>101</td>\n      <td>100-300</td>\n    </tr>\n    <tr>\n      <th>156</th>\n      <td>157</td>\n      <td>21712008</td>\n      <td>poor-families</td>\n      <td>ca</td>\n      <td>We are alarmed to learn of your recently circu...</td>\n      <td>4</td>\n      <td>1</td>\n      <td>101</td>\n      <td>100-300</td>\n    </tr>\n    <tr>\n      <th>1207</th>\n      <td>1208</td>\n      <td>1812127</td>\n      <td>vulnerable</td>\n      <td>ng</td>\n      <td>It is written in Ecclessiastes in the Bible th...</td>\n      <td>4</td>\n      <td>1</td>\n      <td>165</td>\n      <td>100-300</td>\n    </tr>\n    <tr>\n      <th>2350</th>\n      <td>2351</td>\n      <td>23798722</td>\n      <td>homeless</td>\n      <td>gh</td>\n      <td>\"She remembers how hard being homeless hit her...</td>\n      <td>3</td>\n      <td>1</td>\n      <td>120</td>\n      <td>100-300</td>\n    </tr>\n    <tr>\n      <th>4683</th>\n      <td>4684</td>\n      <td>4540736</td>\n      <td>hopeless</td>\n      <td>pk</td>\n      <td>While male prisoners in Pakistan also suffer ,...</td>\n      <td>3</td>\n      <td>1</td>\n      <td>107</td>\n      <td>100-300</td>\n    </tr>\n    <tr>\n      <th>...</th>\n      <td>...</td>\n      <td>...</td>\n      <td>...</td>\n      <td>...</td>\n      <td>...</td>\n      <td>...</td>\n      <td>...</td>\n      <td>...</td>\n      <td>...</td>\n    </tr>\n    <tr>\n      <th>10345</th>\n      <td>10346</td>\n      <td>24507290</td>\n      <td>immigrant</td>\n      <td>ng</td>\n      <td>\"A Nigerian-American , Alexis Okeowo , shoulde...</td>\n      <td>0</td>\n      <td>0</td>\n      <td>188</td>\n      <td>100-300</td>\n    </tr>\n    <tr>\n      <th>10380</th>\n      <td>10381</td>\n      <td>2268760</td>\n      <td>migrant</td>\n      <td>us</td>\n      <td>\"\"\" The best thing that happened , 3 million p...</td>\n      <td>0</td>\n      <td>0</td>\n      <td>107</td>\n      <td>100-300</td>\n    </tr>\n    <tr>\n      <th>10402</th>\n      <td>10403</td>\n      <td>14799035</td>\n      <td>disabled</td>\n      <td>ng</td>\n      <td>Justice is on crutches in Nigeria , severely e...</td>\n      <td>0</td>\n      <td>0</td>\n      <td>103</td>\n      <td>100-300</td>\n    </tr>\n    <tr>\n      <th>10452</th>\n      <td>10453</td>\n      <td>18620867</td>\n      <td>poor-families</td>\n      <td>pk</td>\n      <td>\"Provincial Minister Schools Education Rana Ma...</td>\n      <td>1</td>\n      <td>0</td>\n      <td>177</td>\n      <td>100-300</td>\n    </tr>\n    <tr>\n      <th>10467</th>\n      <td>10468</td>\n      <td>16753236</td>\n      <td>hopeless</td>\n      <td>in</td>\n      <td>\"\"\" Anja Ringgren Loven I ca n't find a word t...</td>\n      <td>4</td>\n      <td>1</td>\n      <td>107</td>\n      <td>100-300</td>\n    </tr>\n  </tbody>\n</table>\n<p>100 rows × 9 columns</p>\n</div>"
     },
     "execution_count": 202,
     "metadata": {},
     "output_type": "execute_result"
    }
   ],
   "source": [
    "tedf_full[tedf_full[\"text_length_bins\"] == '100-300']"
   ],
   "metadata": {
    "collapsed": false,
    "ExecuteTime": {
     "end_time": "2024-03-01T12:38:04.431260Z",
     "start_time": "2024-03-01T12:38:04.404614Z"
    }
   },
   "id": "4bfe87626d45d87c"
  },
  {
   "cell_type": "code",
   "execution_count": 194,
   "outputs": [
    {
     "name": "stderr",
     "output_type": "stream",
     "text": [
      "/var/folders/s6/pzn2mzln089b14702jlw7cqm0000gn/T/ipykernel_69807/3155366362.py:6: SettingWithCopyWarning: \n",
      "A value is trying to be set on a copy of a slice from a DataFrame.\n",
      "Try using .loc[row_indexer,col_indexer] = value instead\n",
      "\n",
      "See the caveats in the documentation: https://pandas.pydata.org/pandas-docs/stable/user_guide/indexing.html#returning-a-view-versus-a-copy\n",
      "  tedf_full['text_length_bins'] = pd.cut(tedf_full['text_length'], bins=[0, 30, 50, 70, 100, 300], labels=length_bins)\n"
     ]
    },
    {
     "data": {
      "text/plain": "       par_id    art_id        keyword country_code  \\\n106       107  16900972       homeless           ke   \n148       149   1387882       disabled           us   \n150       151  19974860  poor-families           in   \n153       154  20663936       disabled           ng   \n156       157  21712008  poor-families           ca   \n...       ...       ...            ...          ...   \n10462   10463   4676355        refugee           pk   \n10463   10464  19612634       disabled           ie   \n10464   10465  14297363          women           lk   \n10465   10466  70091353     vulnerable           ph   \n10467   10468  16753236       hopeless           in   \n\n                                                    text  label  binary_label  \\\n106    \"His present \"\" chambers \"\" may be quite humbl...      3             1   \n148    Krueger recently harnessed that creativity to ...      2             1   \n150    10:41am - Parents of children who died must ge...      3             1   \n153    When some people feel causing problem for some...      4             1   \n156    We are alarmed to learn of your recently circu...      4             1   \n...                                                  ...    ...           ...   \n10462  \"\"\" The Pakistani police came to our house and...      0             0   \n10463  \"When Marie O'Donoghue went looking for a spec...      0             0   \n10464  \"Sri Lankan norms and culture inhibit women fr...      1             0   \n10465  He added that the AFP will continue to bank on...      0             0   \n10467  \"\"\" Anja Ringgren Loven I ca n't find a word t...      4             1   \n\n       text_length text_length_bins  \n106             75           70-100  \n148             54            50-70  \n150             25             0-30  \n153            101          100-300  \n156            101          100-300  \n...            ...              ...  \n10462           37            30-50  \n10463           38            30-50  \n10464           64            50-70  \n10465           43            30-50  \n10467          107          100-300  \n\n[2093 rows x 9 columns]",
      "text/html": "<div>\n<style scoped>\n    .dataframe tbody tr th:only-of-type {\n        vertical-align: middle;\n    }\n\n    .dataframe tbody tr th {\n        vertical-align: top;\n    }\n\n    .dataframe thead th {\n        text-align: right;\n    }\n</style>\n<table border=\"1\" class=\"dataframe\">\n  <thead>\n    <tr style=\"text-align: right;\">\n      <th></th>\n      <th>par_id</th>\n      <th>art_id</th>\n      <th>keyword</th>\n      <th>country_code</th>\n      <th>text</th>\n      <th>label</th>\n      <th>binary_label</th>\n      <th>text_length</th>\n      <th>text_length_bins</th>\n    </tr>\n  </thead>\n  <tbody>\n    <tr>\n      <th>106</th>\n      <td>107</td>\n      <td>16900972</td>\n      <td>homeless</td>\n      <td>ke</td>\n      <td>\"His present \"\" chambers \"\" may be quite humbl...</td>\n      <td>3</td>\n      <td>1</td>\n      <td>75</td>\n      <td>70-100</td>\n    </tr>\n    <tr>\n      <th>148</th>\n      <td>149</td>\n      <td>1387882</td>\n      <td>disabled</td>\n      <td>us</td>\n      <td>Krueger recently harnessed that creativity to ...</td>\n      <td>2</td>\n      <td>1</td>\n      <td>54</td>\n      <td>50-70</td>\n    </tr>\n    <tr>\n      <th>150</th>\n      <td>151</td>\n      <td>19974860</td>\n      <td>poor-families</td>\n      <td>in</td>\n      <td>10:41am - Parents of children who died must ge...</td>\n      <td>3</td>\n      <td>1</td>\n      <td>25</td>\n      <td>0-30</td>\n    </tr>\n    <tr>\n      <th>153</th>\n      <td>154</td>\n      <td>20663936</td>\n      <td>disabled</td>\n      <td>ng</td>\n      <td>When some people feel causing problem for some...</td>\n      <td>4</td>\n      <td>1</td>\n      <td>101</td>\n      <td>100-300</td>\n    </tr>\n    <tr>\n      <th>156</th>\n      <td>157</td>\n      <td>21712008</td>\n      <td>poor-families</td>\n      <td>ca</td>\n      <td>We are alarmed to learn of your recently circu...</td>\n      <td>4</td>\n      <td>1</td>\n      <td>101</td>\n      <td>100-300</td>\n    </tr>\n    <tr>\n      <th>...</th>\n      <td>...</td>\n      <td>...</td>\n      <td>...</td>\n      <td>...</td>\n      <td>...</td>\n      <td>...</td>\n      <td>...</td>\n      <td>...</td>\n      <td>...</td>\n    </tr>\n    <tr>\n      <th>10462</th>\n      <td>10463</td>\n      <td>4676355</td>\n      <td>refugee</td>\n      <td>pk</td>\n      <td>\"\"\" The Pakistani police came to our house and...</td>\n      <td>0</td>\n      <td>0</td>\n      <td>37</td>\n      <td>30-50</td>\n    </tr>\n    <tr>\n      <th>10463</th>\n      <td>10464</td>\n      <td>19612634</td>\n      <td>disabled</td>\n      <td>ie</td>\n      <td>\"When Marie O'Donoghue went looking for a spec...</td>\n      <td>0</td>\n      <td>0</td>\n      <td>38</td>\n      <td>30-50</td>\n    </tr>\n    <tr>\n      <th>10464</th>\n      <td>10465</td>\n      <td>14297363</td>\n      <td>women</td>\n      <td>lk</td>\n      <td>\"Sri Lankan norms and culture inhibit women fr...</td>\n      <td>1</td>\n      <td>0</td>\n      <td>64</td>\n      <td>50-70</td>\n    </tr>\n    <tr>\n      <th>10465</th>\n      <td>10466</td>\n      <td>70091353</td>\n      <td>vulnerable</td>\n      <td>ph</td>\n      <td>He added that the AFP will continue to bank on...</td>\n      <td>0</td>\n      <td>0</td>\n      <td>43</td>\n      <td>30-50</td>\n    </tr>\n    <tr>\n      <th>10467</th>\n      <td>10468</td>\n      <td>16753236</td>\n      <td>hopeless</td>\n      <td>in</td>\n      <td>\"\"\" Anja Ringgren Loven I ca n't find a word t...</td>\n      <td>4</td>\n      <td>1</td>\n      <td>107</td>\n      <td>100-300</td>\n    </tr>\n  </tbody>\n</table>\n<p>2093 rows × 9 columns</p>\n</div>"
     },
     "execution_count": 194,
     "metadata": {},
     "output_type": "execute_result"
    }
   ],
   "source": [
    "all_communities = tedf_full['keyword'].unique().tolist()\n",
    "all_levels = tedf_full['label'].unique().tolist()\n",
    "all_text_lengths = tedf_full['text_length'].unique().tolist()\n",
    "\n",
    "length_bins = ['0-30', '30-50', '50-70', '70-100', '100-300']\n",
    "tedf_full['text_length_bins'] = pd.cut(tedf_full['text_length'], bins=[0, 30, 50, 70, 100, 300], labels=length_bins)\n",
    "\n",
    "tedf_full"
   ],
   "metadata": {
    "collapsed": false,
    "ExecuteTime": {
     "end_time": "2024-03-01T12:35:33.343391Z",
     "start_time": "2024-03-01T12:35:33.315364Z"
    }
   },
   "id": "726fda338408b8c"
  },
  {
   "cell_type": "code",
   "execution_count": 195,
   "outputs": [
    {
     "data": {
      "text/plain": "  0%|          | 0/18 [00:00<?, ?it/s]",
      "application/vnd.jupyter.widget-view+json": {
       "version_major": 2,
       "version_minor": 0,
       "model_id": "5d683318e8be40b98da64612aa2f6cf9"
      }
     },
     "metadata": {},
     "output_type": "display_data"
    },
    {
     "name": "stderr",
     "output_type": "stream",
     "text": [
      "/var/folders/s6/pzn2mzln089b14702jlw7cqm0000gn/T/ipykernel_69807/1759305414.py:25: UserWarning: To copy construct from a tensor, it is recommended to use sourceTensor.clone().detach() or sourceTensor.clone().detach().requires_grad_(True), rather than torch.tensor(sourceTensor).\n",
      "  labels = torch.tensor(labels)  #convert list of labels for the current batch into a tensor\n"
     ]
    },
    {
     "name": "stdout",
     "output_type": "stream",
     "text": [
      "0.5915492957746479\n"
     ]
    },
    {
     "data": {
      "text/plain": "  0%|          | 0/26 [00:00<?, ?it/s]",
      "application/vnd.jupyter.widget-view+json": {
       "version_major": 2,
       "version_minor": 0,
       "model_id": "2a6148efba784c1ca2a4a9e45a9e541f"
      }
     },
     "metadata": {},
     "output_type": "display_data"
    },
    {
     "name": "stderr",
     "output_type": "stream",
     "text": [
      "/var/folders/s6/pzn2mzln089b14702jlw7cqm0000gn/T/ipykernel_69807/1759305414.py:25: UserWarning: To copy construct from a tensor, it is recommended to use sourceTensor.clone().detach() or sourceTensor.clone().detach().requires_grad_(True), rather than torch.tensor(sourceTensor).\n",
      "  labels = torch.tensor(labels)  #convert list of labels for the current batch into a tensor\n"
     ]
    },
    {
     "name": "stdout",
     "output_type": "stream",
     "text": [
      "0.5263157894736842\n"
     ]
    },
    {
     "data": {
      "text/plain": "  0%|          | 0/13 [00:00<?, ?it/s]",
      "application/vnd.jupyter.widget-view+json": {
       "version_major": 2,
       "version_minor": 0,
       "model_id": "cbfe61b28a5641eea05e7ca11b50f614"
      }
     },
     "metadata": {},
     "output_type": "display_data"
    },
    {
     "name": "stderr",
     "output_type": "stream",
     "text": [
      "/var/folders/s6/pzn2mzln089b14702jlw7cqm0000gn/T/ipykernel_69807/1759305414.py:25: UserWarning: To copy construct from a tensor, it is recommended to use sourceTensor.clone().detach() or sourceTensor.clone().detach().requires_grad_(True), rather than torch.tensor(sourceTensor).\n",
      "  labels = torch.tensor(labels)  #convert list of labels for the current batch into a tensor\n"
     ]
    },
    {
     "name": "stdout",
     "output_type": "stream",
     "text": [
      "0.4788732394366197\n"
     ]
    },
    {
     "data": {
      "text/plain": "  0%|          | 0/8 [00:00<?, ?it/s]",
      "application/vnd.jupyter.widget-view+json": {
       "version_major": 2,
       "version_minor": 0,
       "model_id": "b3176478b118497daa82452ef677b609"
      }
     },
     "metadata": {},
     "output_type": "display_data"
    },
    {
     "name": "stderr",
     "output_type": "stream",
     "text": [
      "/var/folders/s6/pzn2mzln089b14702jlw7cqm0000gn/T/ipykernel_69807/1759305414.py:25: UserWarning: To copy construct from a tensor, it is recommended to use sourceTensor.clone().detach() or sourceTensor.clone().detach().requires_grad_(True), rather than torch.tensor(sourceTensor).\n",
      "  labels = torch.tensor(labels)  #convert list of labels for the current batch into a tensor\n"
     ]
    },
    {
     "name": "stdout",
     "output_type": "stream",
     "text": [
      "0.5172413793103449\n"
     ]
    },
    {
     "data": {
      "text/plain": "  0%|          | 0/4 [00:00<?, ?it/s]",
      "application/vnd.jupyter.widget-view+json": {
       "version_major": 2,
       "version_minor": 0,
       "model_id": "982898aa8254409bb8cbfde2188d06db"
      }
     },
     "metadata": {},
     "output_type": "display_data"
    },
    {
     "name": "stderr",
     "output_type": "stream",
     "text": [
      "/var/folders/s6/pzn2mzln089b14702jlw7cqm0000gn/T/ipykernel_69807/1759305414.py:25: UserWarning: To copy construct from a tensor, it is recommended to use sourceTensor.clone().detach() or sourceTensor.clone().detach().requires_grad_(True), rather than torch.tensor(sourceTensor).\n",
      "  labels = torch.tensor(labels)  #convert list of labels for the current batch into a tensor\n"
     ]
    },
    {
     "name": "stdout",
     "output_type": "stream",
     "text": [
      "0.6086956521739131\n"
     ]
    }
   ],
   "source": [
    "f1_scores = []\n",
    "\n",
    "for bin in length_bins:\n",
    "    \n",
    "    test_dataset = tedf_full[tedf_full['text_length_bins'] == bin]\n",
    "    test_dataset = test_dataset.drop(columns=['label'])\n",
    "    test_dataset = test_dataset.rename(columns={'binary_label': 'label'})\n",
    "    test_dataset = PCLDataset(tokenizer, test_dataset)\n",
    "    \n",
    "    # we don't batch our test set unless it's too big\n",
    "    test_loader = DataLoader(test_dataset, batch_size=32, shuffle=False, collate_fn=test_dataset.collate_fn)\n",
    "    #test_loader = DataLoader(test_dataset)\n",
    "    \n",
    "    report = evaluate(model, tokenizer, test_loader)\n",
    "    print(report['PCL']['f1-score'])\n",
    "    f1_scores.append(report['PCL']['f1-score'])\n",
    "    "
   ],
   "metadata": {
    "collapsed": false,
    "ExecuteTime": {
     "end_time": "2024-03-01T12:36:09.892913Z",
     "start_time": "2024-03-01T12:35:34.029357Z"
    }
   },
   "id": "2803fe8edb82532b"
  },
  {
   "cell_type": "code",
   "execution_count": 196,
   "outputs": [
    {
     "data": {
      "text/plain": "<Figure size 640x480 with 1 Axes>",
      "image/png": "[encoded data removed]"
     },
     "metadata": {},
     "output_type": "display_data"
    }
   ],
   "source": [
    "# plot the f1 scores against the length bins in a bar plot. use a different color for each pl\n",
    "\n",
    "plt.bar(length_bins, f1_scores, color=['green', 'blue', 'purple', 'orange', 'red', 'yellow', 'pink'])\n",
    "plt.title('F1 Score per Text Length')\n",
    "plt.xlabel('Text Length')\n",
    "plt.ylabel('F1 Score')\n",
    "plt.xticks(rotation=45)\n",
    "plt.show()\n"
   ],
   "metadata": {
    "collapsed": false,
    "ExecuteTime": {
     "end_time": "2024-03-01T12:36:09.966788Z",
     "start_time": "2024-03-01T12:36:09.906075Z"
    }
   },
   "id": "a3477f8ba2728fde"
  },
  {
   "cell_type": "code",
   "execution_count": 173,
   "outputs": [
    {
     "data": {
      "text/plain": "  0%|          | 0/7 [00:00<?, ?it/s]",
      "application/vnd.jupyter.widget-view+json": {
       "version_major": 2,
       "version_minor": 0,
       "model_id": "8449bd056b4042ffa392947c589b7947"
      }
     },
     "metadata": {},
     "output_type": "display_data"
    },
    {
     "name": "stderr",
     "output_type": "stream",
     "text": [
      "/var/folders/s6/pzn2mzln089b14702jlw7cqm0000gn/T/ipykernel_69807/1759305414.py:25: UserWarning: To copy construct from a tensor, it is recommended to use sourceTensor.clone().detach() or sourceTensor.clone().detach().requires_grad_(True), rather than torch.tensor(sourceTensor).\n",
      "  labels = torch.tensor(labels)  #convert list of labels for the current batch into a tensor\n"
     ]
    },
    {
     "name": "stdout",
     "output_type": "stream",
     "text": [
      "0.5384615384615384\n"
     ]
    },
    {
     "data": {
      "text/plain": "  0%|          | 0/7 [00:00<?, ?it/s]",
      "application/vnd.jupyter.widget-view+json": {
       "version_major": 2,
       "version_minor": 0,
       "model_id": "5334f3aa832a40108b457d206cd06545"
      }
     },
     "metadata": {},
     "output_type": "display_data"
    },
    {
     "name": "stderr",
     "output_type": "stream",
     "text": [
      "/var/folders/s6/pzn2mzln089b14702jlw7cqm0000gn/T/ipykernel_69807/1759305414.py:25: UserWarning: To copy construct from a tensor, it is recommended to use sourceTensor.clone().detach() or sourceTensor.clone().detach().requires_grad_(True), rather than torch.tensor(sourceTensor).\n",
      "  labels = torch.tensor(labels)  #convert list of labels for the current batch into a tensor\n"
     ]
    },
    {
     "name": "stdout",
     "output_type": "stream",
     "text": [
      "0.4166666666666667\n"
     ]
    },
    {
     "data": {
      "text/plain": "  0%|          | 0/6 [00:00<?, ?it/s]",
      "application/vnd.jupyter.widget-view+json": {
       "version_major": 2,
       "version_minor": 0,
       "model_id": "3ab0083111644a61b273096ca3617e48"
      }
     },
     "metadata": {},
     "output_type": "display_data"
    },
    {
     "name": "stderr",
     "output_type": "stream",
     "text": [
      "/var/folders/s6/pzn2mzln089b14702jlw7cqm0000gn/T/ipykernel_69807/1759305414.py:25: UserWarning: To copy construct from a tensor, it is recommended to use sourceTensor.clone().detach() or sourceTensor.clone().detach().requires_grad_(True), rather than torch.tensor(sourceTensor).\n",
      "  labels = torch.tensor(labels)  #convert list of labels for the current batch into a tensor\n"
     ]
    },
    {
     "name": "stdout",
     "output_type": "stream",
     "text": [
      "0.5352112676056338\n"
     ]
    },
    {
     "data": {
      "text/plain": "  0%|          | 0/8 [00:00<?, ?it/s]",
      "application/vnd.jupyter.widget-view+json": {
       "version_major": 2,
       "version_minor": 0,
       "model_id": "45280ed57ead4690860239524db2f434"
      }
     },
     "metadata": {},
     "output_type": "display_data"
    },
    {
     "name": "stderr",
     "output_type": "stream",
     "text": [
      "/var/folders/s6/pzn2mzln089b14702jlw7cqm0000gn/T/ipykernel_69807/1759305414.py:25: UserWarning: To copy construct from a tensor, it is recommended to use sourceTensor.clone().detach() or sourceTensor.clone().detach().requires_grad_(True), rather than torch.tensor(sourceTensor).\n",
      "  labels = torch.tensor(labels)  #convert list of labels for the current batch into a tensor\n"
     ]
    },
    {
     "name": "stdout",
     "output_type": "stream",
     "text": [
      "0.7297297297297297\n"
     ]
    },
    {
     "data": {
      "text/plain": "  0%|          | 0/8 [00:00<?, ?it/s]",
      "application/vnd.jupyter.widget-view+json": {
       "version_major": 2,
       "version_minor": 0,
       "model_id": "b37fc2b540a7448792ea96a90b01e81b"
      }
     },
     "metadata": {},
     "output_type": "display_data"
    },
    {
     "name": "stderr",
     "output_type": "stream",
     "text": [
      "/var/folders/s6/pzn2mzln089b14702jlw7cqm0000gn/T/ipykernel_69807/1759305414.py:25: UserWarning: To copy construct from a tensor, it is recommended to use sourceTensor.clone().detach() or sourceTensor.clone().detach().requires_grad_(True), rather than torch.tensor(sourceTensor).\n",
      "  labels = torch.tensor(labels)  #convert list of labels for the current batch into a tensor\n"
     ]
    },
    {
     "name": "stdout",
     "output_type": "stream",
     "text": [
      "0.1111111111111111\n"
     ]
    },
    {
     "data": {
      "text/plain": "  0%|          | 0/6 [00:00<?, ?it/s]",
      "application/vnd.jupyter.widget-view+json": {
       "version_major": 2,
       "version_minor": 0,
       "model_id": "1e6794831d1d421981d9accf2a4f67cf"
      }
     },
     "metadata": {},
     "output_type": "display_data"
    },
    {
     "name": "stderr",
     "output_type": "stream",
     "text": [
      "/var/folders/s6/pzn2mzln089b14702jlw7cqm0000gn/T/ipykernel_69807/1759305414.py:25: UserWarning: To copy construct from a tensor, it is recommended to use sourceTensor.clone().detach() or sourceTensor.clone().detach().requires_grad_(True), rather than torch.tensor(sourceTensor).\n",
      "  labels = torch.tensor(labels)  #convert list of labels for the current batch into a tensor\n"
     ]
    },
    {
     "name": "stdout",
     "output_type": "stream",
     "text": [
      "0.47619047619047616\n"
     ]
    },
    {
     "data": {
      "text/plain": "  0%|          | 0/7 [00:00<?, ?it/s]",
      "application/vnd.jupyter.widget-view+json": {
       "version_major": 2,
       "version_minor": 0,
       "model_id": "c576e9f1f4c34f808885bdcf88cd8348"
      }
     },
     "metadata": {},
     "output_type": "display_data"
    },
    {
     "name": "stderr",
     "output_type": "stream",
     "text": [
      "/var/folders/s6/pzn2mzln089b14702jlw7cqm0000gn/T/ipykernel_69807/1759305414.py:25: UserWarning: To copy construct from a tensor, it is recommended to use sourceTensor.clone().detach() or sourceTensor.clone().detach().requires_grad_(True), rather than torch.tensor(sourceTensor).\n",
      "  labels = torch.tensor(labels)  #convert list of labels for the current batch into a tensor\n"
     ]
    },
    {
     "name": "stdout",
     "output_type": "stream",
     "text": [
      "0.3333333333333333\n"
     ]
    },
    {
     "data": {
      "text/plain": "  0%|          | 0/7 [00:00<?, ?it/s]",
      "application/vnd.jupyter.widget-view+json": {
       "version_major": 2,
       "version_minor": 0,
       "model_id": "bf038757b8c546958189d15f2ae68f94"
      }
     },
     "metadata": {},
     "output_type": "display_data"
    },
    {
     "name": "stderr",
     "output_type": "stream",
     "text": [
      "/var/folders/s6/pzn2mzln089b14702jlw7cqm0000gn/T/ipykernel_69807/1759305414.py:25: UserWarning: To copy construct from a tensor, it is recommended to use sourceTensor.clone().detach() or sourceTensor.clone().detach().requires_grad_(True), rather than torch.tensor(sourceTensor).\n",
      "  labels = torch.tensor(labels)  #convert list of labels for the current batch into a tensor\n"
     ]
    },
    {
     "name": "stdout",
     "output_type": "stream",
     "text": [
      "0.5\n"
     ]
    },
    {
     "data": {
      "text/plain": "  0%|          | 0/7 [00:00<?, ?it/s]",
      "application/vnd.jupyter.widget-view+json": {
       "version_major": 2,
       "version_minor": 0,
       "model_id": "8d535ca1ca5a4db28342bd73bd1642dc"
      }
     },
     "metadata": {},
     "output_type": "display_data"
    },
    {
     "name": "stderr",
     "output_type": "stream",
     "text": [
      "/var/folders/s6/pzn2mzln089b14702jlw7cqm0000gn/T/ipykernel_69807/1759305414.py:25: UserWarning: To copy construct from a tensor, it is recommended to use sourceTensor.clone().detach() or sourceTensor.clone().detach().requires_grad_(True), rather than torch.tensor(sourceTensor).\n",
      "  labels = torch.tensor(labels)  #convert list of labels for the current batch into a tensor\n"
     ]
    },
    {
     "name": "stdout",
     "output_type": "stream",
     "text": [
      "0.4444444444444444\n"
     ]
    },
    {
     "data": {
      "text/plain": "  0%|          | 0/7 [00:00<?, ?it/s]",
      "application/vnd.jupyter.widget-view+json": {
       "version_major": 2,
       "version_minor": 0,
       "model_id": "878e49f6082f4ff7822ae4647bb771e5"
      }
     },
     "metadata": {},
     "output_type": "display_data"
    },
    {
     "name": "stderr",
     "output_type": "stream",
     "text": [
      "/var/folders/s6/pzn2mzln089b14702jlw7cqm0000gn/T/ipykernel_69807/1759305414.py:25: UserWarning: To copy construct from a tensor, it is recommended to use sourceTensor.clone().detach() or sourceTensor.clone().detach().requires_grad_(True), rather than torch.tensor(sourceTensor).\n",
      "  labels = torch.tensor(labels)  #convert list of labels for the current batch into a tensor\n"
     ]
    },
    {
     "name": "stdout",
     "output_type": "stream",
     "text": [
      "0.5454545454545454\n"
     ]
    }
   ],
   "source": [
    "f1_scores = []\n",
    "\n",
    "for community in all_communities:\n",
    "    \n",
    "    test_dataset = tedf_full[tedf_full['keyword'] == community]\n",
    "    test_dataset = test_dataset.drop(columns=['label'])\n",
    "    test_dataset = test_dataset.rename(columns={'binary_label': 'label'})\n",
    "    test_dataset = PCLDataset(tokenizer, test_dataset)\n",
    "    \n",
    "    # we don't batch our test set unless it's too big\n",
    "    test_loader = DataLoader(test_dataset, batch_size=32, shuffle=False, collate_fn=test_dataset.collate_fn)\n",
    "    #test_loader = DataLoader(test_dataset)\n",
    "    \n",
    "    report = evaluate(model, tokenizer, test_loader)\n",
    "    print(report['PCL']['f1-score'])\n",
    "    f1_scores.append(report['PCL']['f1-score'])\n",
    "    "
   ],
   "metadata": {
    "collapsed": false,
    "ExecuteTime": {
     "end_time": "2024-03-01T12:20:12.624566Z",
     "start_time": "2024-03-01T12:19:10.287531Z"
    }
   },
   "id": "ba610f8bb094f808"
  },
  {
   "cell_type": "code",
   "execution_count": 174,
   "outputs": [
    {
     "data": {
      "text/plain": "<Figure size 640x480 with 1 Axes>",
      "image/png": "[encoded data removed]"
     },
     "metadata": {},
     "output_type": "display_data"
    }
   ],
   "source": [
    "# plot the f1 scores for each community in a bar plot. use a different color for each plot\n",
    "\n",
    "plt.bar(all_communities, f1_scores, color=['green', 'blue', 'purple', 'orange', 'red', 'yellow', 'pink'])\n",
    "plt.title('F1 Score per Community')\n",
    "plt.xlabel('Community')\n",
    "plt.ylabel('F1 Score')\n",
    "plt.xticks(rotation=45)\n",
    "plt.show()\n"
   ],
   "metadata": {
    "collapsed": false,
    "ExecuteTime": {
     "end_time": "2024-03-01T12:20:12.706442Z",
     "start_time": "2024-03-01T12:20:12.631848Z"
    }
   },
   "id": "942f20b0efedc1da"
  },
  {
   "cell_type": "code",
   "execution_count": 175,
   "outputs": [
    {
     "data": {
      "text/plain": "  0%|          | 0/1 [00:00<?, ?it/s]",
      "application/vnd.jupyter.widget-view+json": {
       "version_major": 2,
       "version_minor": 0,
       "model_id": "ca2db79f06ac4f85810a9a121960bc38"
      }
     },
     "metadata": {},
     "output_type": "display_data"
    },
    {
     "name": "stderr",
     "output_type": "stream",
     "text": [
      "/var/folders/s6/pzn2mzln089b14702jlw7cqm0000gn/T/ipykernel_69807/1759305414.py:25: UserWarning: To copy construct from a tensor, it is recommended to use sourceTensor.clone().detach() or sourceTensor.clone().detach().requires_grad_(True), rather than torch.tensor(sourceTensor).\n",
      "  labels = torch.tensor(labels)  #convert list of labels for the current batch into a tensor\n"
     ]
    },
    {
     "name": "stdout",
     "output_type": "stream",
     "text": [
      "0.36363636363636365\n"
     ]
    },
    {
     "name": "stderr",
     "output_type": "stream",
     "text": [
      "/Users/gouse/PycharmProjects/NLP/venv/lib/python3.9/site-packages/sklearn/metrics/_classification.py:1497: UndefinedMetricWarning: Recall is ill-defined and being set to 0.0 in labels with no true samples. Use `zero_division` parameter to control this behavior.\n",
      "  _warn_prf(average, modifier, f\"{metric.capitalize()} is\", len(result))\n",
      "/Users/gouse/PycharmProjects/NLP/venv/lib/python3.9/site-packages/sklearn/metrics/_classification.py:1497: UndefinedMetricWarning: Recall is ill-defined and being set to 0.0 in labels with no true samples. Use `zero_division` parameter to control this behavior.\n",
      "  _warn_prf(average, modifier, f\"{metric.capitalize()} is\", len(result))\n",
      "/Users/gouse/PycharmProjects/NLP/venv/lib/python3.9/site-packages/sklearn/metrics/_classification.py:1497: UndefinedMetricWarning: Recall is ill-defined and being set to 0.0 in labels with no true samples. Use `zero_division` parameter to control this behavior.\n",
      "  _warn_prf(average, modifier, f\"{metric.capitalize()} is\", len(result))\n"
     ]
    },
    {
     "data": {
      "text/plain": "  0%|          | 0/3 [00:00<?, ?it/s]",
      "application/vnd.jupyter.widget-view+json": {
       "version_major": 2,
       "version_minor": 0,
       "model_id": "6d2288c4b6ab41879cbe7b5570f9b686"
      }
     },
     "metadata": {},
     "output_type": "display_data"
    },
    {
     "name": "stderr",
     "output_type": "stream",
     "text": [
      "/var/folders/s6/pzn2mzln089b14702jlw7cqm0000gn/T/ipykernel_69807/1759305414.py:25: UserWarning: To copy construct from a tensor, it is recommended to use sourceTensor.clone().detach() or sourceTensor.clone().detach().requires_grad_(True), rather than torch.tensor(sourceTensor).\n",
      "  labels = torch.tensor(labels)  #convert list of labels for the current batch into a tensor\n"
     ]
    },
    {
     "name": "stdout",
     "output_type": "stream",
     "text": [
      "0.576\n"
     ]
    },
    {
     "name": "stderr",
     "output_type": "stream",
     "text": [
      "/Users/gouse/PycharmProjects/NLP/venv/lib/python3.9/site-packages/sklearn/metrics/_classification.py:1497: UndefinedMetricWarning: Recall is ill-defined and being set to 0.0 in labels with no true samples. Use `zero_division` parameter to control this behavior.\n",
      "  _warn_prf(average, modifier, f\"{metric.capitalize()} is\", len(result))\n",
      "/Users/gouse/PycharmProjects/NLP/venv/lib/python3.9/site-packages/sklearn/metrics/_classification.py:1497: UndefinedMetricWarning: Recall is ill-defined and being set to 0.0 in labels with no true samples. Use `zero_division` parameter to control this behavior.\n",
      "  _warn_prf(average, modifier, f\"{metric.capitalize()} is\", len(result))\n",
      "/Users/gouse/PycharmProjects/NLP/venv/lib/python3.9/site-packages/sklearn/metrics/_classification.py:1497: UndefinedMetricWarning: Recall is ill-defined and being set to 0.0 in labels with no true samples. Use `zero_division` parameter to control this behavior.\n",
      "  _warn_prf(average, modifier, f\"{metric.capitalize()} is\", len(result))\n"
     ]
    },
    {
     "data": {
      "text/plain": "  0%|          | 0/3 [00:00<?, ?it/s]",
      "application/vnd.jupyter.widget-view+json": {
       "version_major": 2,
       "version_minor": 0,
       "model_id": "4107174afc83431980e7ec31dd9f47db"
      }
     },
     "metadata": {},
     "output_type": "display_data"
    },
    {
     "name": "stderr",
     "output_type": "stream",
     "text": [
      "/var/folders/s6/pzn2mzln089b14702jlw7cqm0000gn/T/ipykernel_69807/1759305414.py:25: UserWarning: To copy construct from a tensor, it is recommended to use sourceTensor.clone().detach() or sourceTensor.clone().detach().requires_grad_(True), rather than torch.tensor(sourceTensor).\n",
      "  labels = torch.tensor(labels)  #convert list of labels for the current batch into a tensor\n"
     ]
    },
    {
     "name": "stdout",
     "output_type": "stream",
     "text": [
      "0.7482993197278912\n"
     ]
    },
    {
     "name": "stderr",
     "output_type": "stream",
     "text": [
      "/Users/gouse/PycharmProjects/NLP/venv/lib/python3.9/site-packages/sklearn/metrics/_classification.py:1497: UndefinedMetricWarning: Recall is ill-defined and being set to 0.0 in labels with no true samples. Use `zero_division` parameter to control this behavior.\n",
      "  _warn_prf(average, modifier, f\"{metric.capitalize()} is\", len(result))\n",
      "/Users/gouse/PycharmProjects/NLP/venv/lib/python3.9/site-packages/sklearn/metrics/_classification.py:1497: UndefinedMetricWarning: Recall is ill-defined and being set to 0.0 in labels with no true samples. Use `zero_division` parameter to control this behavior.\n",
      "  _warn_prf(average, modifier, f\"{metric.capitalize()} is\", len(result))\n",
      "/Users/gouse/PycharmProjects/NLP/venv/lib/python3.9/site-packages/sklearn/metrics/_classification.py:1497: UndefinedMetricWarning: Recall is ill-defined and being set to 0.0 in labels with no true samples. Use `zero_division` parameter to control this behavior.\n",
      "  _warn_prf(average, modifier, f\"{metric.capitalize()} is\", len(result))\n"
     ]
    }
   ],
   "source": [
    "f1_scores = []\n",
    "\n",
    "for level in [2,3,4]:\n",
    "    \n",
    "    test_dataset = tedf_full[tedf_full['label'] == level]\n",
    "    test_dataset = test_dataset.drop(columns=['label'])\n",
    "    test_dataset = test_dataset.rename(columns={'binary_label': 'label'})\n",
    "    test_dataset = PCLDataset(tokenizer, test_dataset)\n",
    "    \n",
    "    # we don't batch our test set unless it's too big\n",
    "    test_loader = DataLoader(test_dataset, batch_size=32, shuffle=False, collate_fn=test_dataset.collate_fn)\n",
    "    #test_loader = DataLoader(test_dataset)\n",
    "    \n",
    "    report = evaluate(model, tokenizer, test_loader)\n",
    "    print(report['PCL']['f1-score'])\n",
    "    f1_scores.append(report['PCL']['f1-score'])"
   ],
   "metadata": {
    "collapsed": false,
    "ExecuteTime": {
     "end_time": "2024-03-01T12:20:19.007230Z",
     "start_time": "2024-03-01T12:20:12.708441Z"
    }
   },
   "id": "7e4febc31be2d743"
  },
  {
   "cell_type": "code",
   "execution_count": 176,
   "outputs": [
    {
     "data": {
      "text/plain": "<Figure size 640x480 with 1 Axes>",
      "image/png": "[encoded data removed]"
     },
     "metadata": {},
     "output_type": "display_data"
    }
   ],
   "source": [
    "# plot the f1 scores for each level in a bar plot. use a different color for each plot. make the x axis to have only 3 ticks\n",
    "\n",
    "plt.bar([2,3,4], f1_scores, color=['green', 'blue', 'purple'])\n",
    "plt.title('F1 Score per Level')\n",
    "plt.xlabel('Level')\n",
    "plt.ylabel('F1 Score')\n",
    "plt.xticks([2,3,4])\n",
    "plt.show()\n"
   ],
   "metadata": {
    "collapsed": false,
    "ExecuteTime": {
     "end_time": "2024-03-01T12:23:15.774719Z",
     "start_time": "2024-03-01T12:23:15.706507Z"
    }
   },
   "id": "4b040e4c3668b0b7"
  }
 ],
 "metadata": {
  "kernelspec": {
   "display_name": "Python 3",
   "language": "python",
   "name": "python3"
  },
  "language_info": {
   "codemirror_mode": {
    "name": "ipython",
    "version": 2
   },
   "file_extension": ".py",
   "mimetype": "text/x-python",
   "name": "python",
   "nbconvert_exporter": "python",
   "pygments_lexer": "ipython2",
   "version": "2.7.6"
  }
 },
 "nbformat": 4,
 "nbformat_minor": 5
}
