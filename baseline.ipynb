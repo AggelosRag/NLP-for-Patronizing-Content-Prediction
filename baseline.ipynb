{
 "cells": [
  {
   "cell_type": "code",
   "execution_count": 12,
   "id": "initial_id",
   "metadata": {
    "collapsed": true,
    "ExecuteTime": {
     "end_time": "2024-02-28T18:44:47.443325Z",
     "start_time": "2024-02-28T18:44:47.436775Z"
    }
   },
   "outputs": [],
   "source": [
    "from simpletransformers.classification import ClassificationModel, ClassificationArgs, MultiLabelClassificationModel, MultiLabelClassificationArgs\n",
    "from urllib import request\n",
    "import pandas as pd\n",
    "import logging\n",
    "import torch\n",
    "from collections import Counter\n",
    "from ast import literal_eval"
   ]
  },
  {
   "cell_type": "code",
   "execution_count": 13,
   "outputs": [
    {
     "name": "stdout",
     "output_type": "stream",
     "text": [
      "Cuda available?  False\n"
     ]
    }
   ],
   "source": [
    "# prepare logger\n",
    "logging.basicConfig(level=logging.INFO)\n",
    "\n",
    "transformers_logger = logging.getLogger(\"transformers\")\n",
    "transformers_logger.setLevel(logging.WARNING)\n",
    "\n",
    "# check gpu\n",
    "cuda_available = torch.cuda.is_available()\n",
    "\n",
    "print('Cuda available? ',cuda_available)\n",
    "\n",
    "if cuda_available:\n",
    "  import tensorflow as tf\n",
    "  # Get the GPU device name.\n",
    "  device_name = tf.test.gpu_device_name()\n",
    "  # The device name should look like the following:\n",
    "  if device_name == '/device:GPU:0':\n",
    "      print('Found GPU at: {}'.format(device_name))\n",
    "  else:\n",
    "      raise SystemError('GPU device not found')"
   ],
   "metadata": {
    "collapsed": false,
    "ExecuteTime": {
     "end_time": "2024-02-28T18:44:47.771132Z",
     "start_time": "2024-02-28T18:44:47.764647Z"
    }
   },
   "id": "b035f27ec42ceb25"
  },
  {
   "cell_type": "code",
   "execution_count": 14,
   "outputs": [
    {
     "name": "stdout",
     "output_type": "stream",
     "text": [
      "Fetching https://raw.githubusercontent.com/Perez-AlmendrosC/dontpatronizeme/master/semeval-2022/dont_patronize_me.py\n"
     ]
    }
   ],
   "source": [
    "module_url = f\"https://raw.githubusercontent.com/Perez-AlmendrosC/dontpatronizeme/master/semeval-2022/dont_patronize_me.py\"\n",
    "module_name = module_url.split('/')[-1]\n",
    "print(f'Fetching {module_url}')\n",
    "#with open(\"file_1.txt\") as f1, open(\"file_2.txt\") as f2\n",
    "with request.urlopen(module_url) as f, open(module_name,'w') as outf:\n",
    "  a = f.read()\n",
    "  outf.write(a.decode('utf-8'))"
   ],
   "metadata": {
    "collapsed": false,
    "ExecuteTime": {
     "end_time": "2024-02-28T18:44:48.516568Z",
     "start_time": "2024-02-28T18:44:48.353012Z"
    }
   },
   "id": "34b02be673a31529"
  },
  {
   "cell_type": "code",
   "execution_count": 15,
   "outputs": [],
   "source": [
    "# helper function to save predictions to an output file\n",
    "def labels2file(p, outf_path):\n",
    "\twith open(outf_path,'w') as outf:\n",
    "\t\tfor pi in p:\n",
    "\t\t\toutf.write(','.join([str(k) for k in pi])+'\\n')"
   ],
   "metadata": {
    "collapsed": false,
    "ExecuteTime": {
     "end_time": "2024-02-28T18:44:49.225643Z",
     "start_time": "2024-02-28T18:44:49.215316Z"
    }
   },
   "id": "aa14d57fd55ba87a"
  },
  {
   "cell_type": "code",
   "execution_count": 16,
   "outputs": [
    {
     "name": "stdout",
     "output_type": "stream",
     "text": [
      "Map of label to numerical label:\n",
      "{'Unbalanced_power_relations': 0, 'Shallow_solution': 1, 'Presupposition': 2, 'Authority_voice': 3, 'Metaphors': 4, 'Compassion': 5, 'The_poorer_the_merrier': 6}\n"
     ]
    }
   ],
   "source": [
    "from dont_patronize_me import DontPatronizeMe\n",
    "path = '/Users/gouse/PycharmProjects/NLP/labs_2023_2024/CW/data'\n",
    "dpm = DontPatronizeMe(path,path)\n",
    "dpm.load_task1()\n",
    "dpm.load_task2(return_one_hot=True)"
   ],
   "metadata": {
    "collapsed": false,
    "ExecuteTime": {
     "end_time": "2024-02-28T18:44:49.603252Z",
     "start_time": "2024-02-28T18:44:49.532029Z"
    }
   },
   "id": "7b43f15b3dacfd83"
  },
  {
   "cell_type": "code",
   "execution_count": 17,
   "outputs": [
    {
     "data": {
      "text/plain": "      par_id      art_id     keyword country  \\\n0          1  @@24942188    hopeless      ph   \n1          2  @@21968160     migrant      gh   \n2          3  @@16584954   immigrant      ie   \n3          4   @@7811231    disabled      nz   \n4          5   @@1494111     refugee      ca   \n...      ...         ...         ...     ...   \n10464  10465  @@14297363       women      lk   \n10465  10466  @@70091353  vulnerable      ph   \n10466  10467  @@20282330     in-need      ng   \n10467  10468  @@16753236    hopeless      in   \n10468  10469  @@16779383    homeless      ie   \n\n                                                    text  label orig_label  \n0      We 're living in times of absolute insanity , ...      0          0  \n1      In Libya today , there are countless number of...      0          0  \n2      \"White House press secretary Sean Spicer said ...      0          0  \n3      Council customers only signs would be displaye...      0          0  \n4      \"\"\" Just like we received migrants fleeing El ...      0          0  \n...                                                  ...    ...        ...  \n10464  \"Sri Lankan norms and culture inhibit women fr...      0          1  \n10465  He added that the AFP will continue to bank on...      0          0  \n10466  \"\"\" She has one huge platform , and informatio...      1          3  \n10467  \"\"\" Anja Ringgren Loven I ca n't find a word t...      1          4  \n10468  \"\"\" Guinness World Record of 540lbs of 7-layer...      1          3  \n\n[10469 rows x 7 columns]",
      "text/html": "<div>\n<style scoped>\n    .dataframe tbody tr th:only-of-type {\n        vertical-align: middle;\n    }\n\n    .dataframe tbody tr th {\n        vertical-align: top;\n    }\n\n    .dataframe thead th {\n        text-align: right;\n    }\n</style>\n<table border=\"1\" class=\"dataframe\">\n  <thead>\n    <tr style=\"text-align: right;\">\n      <th></th>\n      <th>par_id</th>\n      <th>art_id</th>\n      <th>keyword</th>\n      <th>country</th>\n      <th>text</th>\n      <th>label</th>\n      <th>orig_label</th>\n    </tr>\n  </thead>\n  <tbody>\n    <tr>\n      <th>0</th>\n      <td>1</td>\n      <td>@@24942188</td>\n      <td>hopeless</td>\n      <td>ph</td>\n      <td>We 're living in times of absolute insanity , ...</td>\n      <td>0</td>\n      <td>0</td>\n    </tr>\n    <tr>\n      <th>1</th>\n      <td>2</td>\n      <td>@@21968160</td>\n      <td>migrant</td>\n      <td>gh</td>\n      <td>In Libya today , there are countless number of...</td>\n      <td>0</td>\n      <td>0</td>\n    </tr>\n    <tr>\n      <th>2</th>\n      <td>3</td>\n      <td>@@16584954</td>\n      <td>immigrant</td>\n      <td>ie</td>\n      <td>\"White House press secretary Sean Spicer said ...</td>\n      <td>0</td>\n      <td>0</td>\n    </tr>\n    <tr>\n      <th>3</th>\n      <td>4</td>\n      <td>@@7811231</td>\n      <td>disabled</td>\n      <td>nz</td>\n      <td>Council customers only signs would be displaye...</td>\n      <td>0</td>\n      <td>0</td>\n    </tr>\n    <tr>\n      <th>4</th>\n      <td>5</td>\n      <td>@@1494111</td>\n      <td>refugee</td>\n      <td>ca</td>\n      <td>\"\"\" Just like we received migrants fleeing El ...</td>\n      <td>0</td>\n      <td>0</td>\n    </tr>\n    <tr>\n      <th>...</th>\n      <td>...</td>\n      <td>...</td>\n      <td>...</td>\n      <td>...</td>\n      <td>...</td>\n      <td>...</td>\n      <td>...</td>\n    </tr>\n    <tr>\n      <th>10464</th>\n      <td>10465</td>\n      <td>@@14297363</td>\n      <td>women</td>\n      <td>lk</td>\n      <td>\"Sri Lankan norms and culture inhibit women fr...</td>\n      <td>0</td>\n      <td>1</td>\n    </tr>\n    <tr>\n      <th>10465</th>\n      <td>10466</td>\n      <td>@@70091353</td>\n      <td>vulnerable</td>\n      <td>ph</td>\n      <td>He added that the AFP will continue to bank on...</td>\n      <td>0</td>\n      <td>0</td>\n    </tr>\n    <tr>\n      <th>10466</th>\n      <td>10467</td>\n      <td>@@20282330</td>\n      <td>in-need</td>\n      <td>ng</td>\n      <td>\"\"\" She has one huge platform , and informatio...</td>\n      <td>1</td>\n      <td>3</td>\n    </tr>\n    <tr>\n      <th>10467</th>\n      <td>10468</td>\n      <td>@@16753236</td>\n      <td>hopeless</td>\n      <td>in</td>\n      <td>\"\"\" Anja Ringgren Loven I ca n't find a word t...</td>\n      <td>1</td>\n      <td>4</td>\n    </tr>\n    <tr>\n      <th>10468</th>\n      <td>10469</td>\n      <td>@@16779383</td>\n      <td>homeless</td>\n      <td>ie</td>\n      <td>\"\"\" Guinness World Record of 540lbs of 7-layer...</td>\n      <td>1</td>\n      <td>3</td>\n    </tr>\n  </tbody>\n</table>\n<p>10469 rows × 7 columns</p>\n</div>"
     },
     "execution_count": 17,
     "metadata": {},
     "output_type": "execute_result"
    }
   ],
   "source": [
    "trids = pd.read_csv(path+'/train_semeval_parids-labels.csv')\n",
    "teids = pd.read_csv(path+'/dev_semeval_parids-labels.csv')\n",
    "trids.par_id = trids.par_id.astype(str)\n",
    "teids.par_id = teids.par_id.astype(str)\n",
    "data=dpm.train_task1_df\n",
    "data"
   ],
   "metadata": {
    "collapsed": false,
    "ExecuteTime": {
     "end_time": "2024-02-28T18:44:52.264153Z",
     "start_time": "2024-02-28T18:44:52.244452Z"
    }
   },
   "id": "4672420113bd0831"
  },
  {
   "cell_type": "markdown",
   "source": [
    "#### Train"
   ],
   "metadata": {
    "collapsed": false
   },
   "id": "b2dba4355f50a377"
  },
  {
   "cell_type": "code",
   "execution_count": 57,
   "outputs": [
    {
     "data": {
      "text/plain": "     par_id      community                                               text  \\\n0      4341  poor-families  The scheme saw an estimated 150,000 children f...   \n1      4136       homeless  Durban 's homeless communities reconciliation ...   \n2     10352  poor-families  The next immediate problem that cropped up was...   \n3      8279     vulnerable  Far more important than the implications for t...   \n4      1164  poor-families  To strengthen child-sensitive social protectio...   \n...     ...            ...                                                ...   \n8370   8380        refugee  Rescue teams search for survivors on the rubbl...   \n8371   8381       hopeless  The launch of ' Happy Birthday ' took place la...   \n8372   8382       homeless  The unrest has left at least 20,000 people dea...   \n8373   8383       hopeless  You have to see it from my perspective . I may...   \n8374   8384       disabled  Yet there was one occasion when we went to the...   \n\n      label  country  \n0         1        0  \n1         1        1  \n2         1        2  \n3         1        3  \n4         1        4  \n...     ...      ...  \n8370      0        0  \n8371      0       19  \n8372      0       14  \n8373      0       14  \n8374      0        9  \n\n[8375 rows x 5 columns]",
      "text/html": "<div>\n<style scoped>\n    .dataframe tbody tr th:only-of-type {\n        vertical-align: middle;\n    }\n\n    .dataframe tbody tr th {\n        vertical-align: top;\n    }\n\n    .dataframe thead th {\n        text-align: right;\n    }\n</style>\n<table border=\"1\" class=\"dataframe\">\n  <thead>\n    <tr style=\"text-align: right;\">\n      <th></th>\n      <th>par_id</th>\n      <th>community</th>\n      <th>text</th>\n      <th>label</th>\n      <th>country</th>\n    </tr>\n  </thead>\n  <tbody>\n    <tr>\n      <th>0</th>\n      <td>4341</td>\n      <td>poor-families</td>\n      <td>The scheme saw an estimated 150,000 children f...</td>\n      <td>1</td>\n      <td>0</td>\n    </tr>\n    <tr>\n      <th>1</th>\n      <td>4136</td>\n      <td>homeless</td>\n      <td>Durban 's homeless communities reconciliation ...</td>\n      <td>1</td>\n      <td>1</td>\n    </tr>\n    <tr>\n      <th>2</th>\n      <td>10352</td>\n      <td>poor-families</td>\n      <td>The next immediate problem that cropped up was...</td>\n      <td>1</td>\n      <td>2</td>\n    </tr>\n    <tr>\n      <th>3</th>\n      <td>8279</td>\n      <td>vulnerable</td>\n      <td>Far more important than the implications for t...</td>\n      <td>1</td>\n      <td>3</td>\n    </tr>\n    <tr>\n      <th>4</th>\n      <td>1164</td>\n      <td>poor-families</td>\n      <td>To strengthen child-sensitive social protectio...</td>\n      <td>1</td>\n      <td>4</td>\n    </tr>\n    <tr>\n      <th>...</th>\n      <td>...</td>\n      <td>...</td>\n      <td>...</td>\n      <td>...</td>\n      <td>...</td>\n    </tr>\n    <tr>\n      <th>8370</th>\n      <td>8380</td>\n      <td>refugee</td>\n      <td>Rescue teams search for survivors on the rubbl...</td>\n      <td>0</td>\n      <td>0</td>\n    </tr>\n    <tr>\n      <th>8371</th>\n      <td>8381</td>\n      <td>hopeless</td>\n      <td>The launch of ' Happy Birthday ' took place la...</td>\n      <td>0</td>\n      <td>19</td>\n    </tr>\n    <tr>\n      <th>8372</th>\n      <td>8382</td>\n      <td>homeless</td>\n      <td>The unrest has left at least 20,000 people dea...</td>\n      <td>0</td>\n      <td>14</td>\n    </tr>\n    <tr>\n      <th>8373</th>\n      <td>8383</td>\n      <td>hopeless</td>\n      <td>You have to see it from my perspective . I may...</td>\n      <td>0</td>\n      <td>14</td>\n    </tr>\n    <tr>\n      <th>8374</th>\n      <td>8384</td>\n      <td>disabled</td>\n      <td>Yet there was one occasion when we went to the...</td>\n      <td>0</td>\n      <td>9</td>\n    </tr>\n  </tbody>\n</table>\n<p>8375 rows × 5 columns</p>\n</div>"
     },
     "execution_count": 57,
     "metadata": {},
     "output_type": "execute_result"
    }
   ],
   "source": [
    "rows = [] # will contain par_id, label and text\n",
    "for idx in range(len(trids)):  \n",
    "  parid = trids.par_id[idx]\n",
    "  #print(parid)\n",
    "  # select row from original dataset to retrieve `text` and binary label\n",
    "  keyword = data.loc[data.par_id == parid].keyword.values[0]\n",
    "  text = data.loc[data.par_id == parid].text.values[0]\n",
    "  label = data.loc[data.par_id == parid].label.values[0]\n",
    "  country = data.loc[data.par_id == parid].country.values[0]\n",
    "  rows.append({\n",
    "      'par_id':parid,\n",
    "      'community':keyword,\n",
    "      'text':text,\n",
    "      'label':label,\n",
    "      'country':country\n",
    "  })\n",
    "import random\n",
    "trdf1 = pd.DataFrame(rows)\n",
    "# Convert countries to categtorical label value \n",
    "trdf1[\"country\"] = pd.Categorical(trdf1[\"country\"], categories=trdf1[\"country\"].unique()).codes\n",
    "trdf1[\"country\"].unique()\n",
    "trdf1"
   ],
   "metadata": {
    "collapsed": false,
    "ExecuteTime": {
     "end_time": "2024-02-28T19:25:25.697601Z",
     "start_time": "2024-02-28T19:25:10.636638Z"
    }
   },
   "id": "93359426ed09c3ba"
  },
  {
   "cell_type": "code",
   "execution_count": 58,
   "outputs": [
    {
     "data": {
      "text/plain": "     par_id      community                                               text  \\\n0      4341  poor-families  The scheme saw an estimated 150,000 children f...   \n1      4136       homeless  Durban 's homeless communities reconciliation ...   \n2     10352  poor-families  The next immediate problem that cropped up was...   \n3      8279     vulnerable  Far more important than the implications for t...   \n4      1164  poor-families  To strengthen child-sensitive social protectio...   \n...     ...            ...                                                ...   \n8370   8380        refugee  Rescue teams search for survivors on the rubbl...   \n8371   8381       hopeless  The launch of ' Happy Birthday ' took place la...   \n8372   8382       homeless  The unrest has left at least 20,000 people dea...   \n8373   8383       hopeless  You have to see it from my perspective . I may...   \n8374   8384       disabled  Yet there was one occasion when we went to the...   \n\n      label                                            country  \n0         1  [1.0, 0.0, 0.0, 0.0, 0.0, 0.0, 0.0, 0.0, 0.0, ...  \n1         1  [0.0, 1.0, 0.0, 0.0, 0.0, 0.0, 0.0, 0.0, 0.0, ...  \n2         1  [0.0, 0.0, 1.0, 0.0, 0.0, 0.0, 0.0, 0.0, 0.0, ...  \n3         1  [0.0, 0.0, 0.0, 1.0, 0.0, 0.0, 0.0, 0.0, 0.0, ...  \n4         1  [0.0, 0.0, 0.0, 0.0, 1.0, 0.0, 0.0, 0.0, 0.0, ...  \n...     ...                                                ...  \n8370      0  [1.0, 0.0, 0.0, 0.0, 0.0, 0.0, 0.0, 0.0, 0.0, ...  \n8371      0  [0.0, 0.0, 0.0, 0.0, 0.0, 0.0, 0.0, 0.0, 0.0, ...  \n8372      0  [0.0, 0.0, 0.0, 0.0, 0.0, 0.0, 0.0, 0.0, 0.0, ...  \n8373      0  [0.0, 0.0, 0.0, 0.0, 0.0, 0.0, 0.0, 0.0, 0.0, ...  \n8374      0  [0.0, 0.0, 0.0, 0.0, 0.0, 0.0, 0.0, 0.0, 0.0, ...  \n\n[8375 rows x 5 columns]",
      "text/html": "<div>\n<style scoped>\n    .dataframe tbody tr th:only-of-type {\n        vertical-align: middle;\n    }\n\n    .dataframe tbody tr th {\n        vertical-align: top;\n    }\n\n    .dataframe thead th {\n        text-align: right;\n    }\n</style>\n<table border=\"1\" class=\"dataframe\">\n  <thead>\n    <tr style=\"text-align: right;\">\n      <th></th>\n      <th>par_id</th>\n      <th>community</th>\n      <th>text</th>\n      <th>label</th>\n      <th>country</th>\n    </tr>\n  </thead>\n  <tbody>\n    <tr>\n      <th>0</th>\n      <td>4341</td>\n      <td>poor-families</td>\n      <td>The scheme saw an estimated 150,000 children f...</td>\n      <td>1</td>\n      <td>[1.0, 0.0, 0.0, 0.0, 0.0, 0.0, 0.0, 0.0, 0.0, ...</td>\n    </tr>\n    <tr>\n      <th>1</th>\n      <td>4136</td>\n      <td>homeless</td>\n      <td>Durban 's homeless communities reconciliation ...</td>\n      <td>1</td>\n      <td>[0.0, 1.0, 0.0, 0.0, 0.0, 0.0, 0.0, 0.0, 0.0, ...</td>\n    </tr>\n    <tr>\n      <th>2</th>\n      <td>10352</td>\n      <td>poor-families</td>\n      <td>The next immediate problem that cropped up was...</td>\n      <td>1</td>\n      <td>[0.0, 0.0, 1.0, 0.0, 0.0, 0.0, 0.0, 0.0, 0.0, ...</td>\n    </tr>\n    <tr>\n      <th>3</th>\n      <td>8279</td>\n      <td>vulnerable</td>\n      <td>Far more important than the implications for t...</td>\n      <td>1</td>\n      <td>[0.0, 0.0, 0.0, 1.0, 0.0, 0.0, 0.0, 0.0, 0.0, ...</td>\n    </tr>\n    <tr>\n      <th>4</th>\n      <td>1164</td>\n      <td>poor-families</td>\n      <td>To strengthen child-sensitive social protectio...</td>\n      <td>1</td>\n      <td>[0.0, 0.0, 0.0, 0.0, 1.0, 0.0, 0.0, 0.0, 0.0, ...</td>\n    </tr>\n    <tr>\n      <th>...</th>\n      <td>...</td>\n      <td>...</td>\n      <td>...</td>\n      <td>...</td>\n      <td>...</td>\n    </tr>\n    <tr>\n      <th>8370</th>\n      <td>8380</td>\n      <td>refugee</td>\n      <td>Rescue teams search for survivors on the rubbl...</td>\n      <td>0</td>\n      <td>[1.0, 0.0, 0.0, 0.0, 0.0, 0.0, 0.0, 0.0, 0.0, ...</td>\n    </tr>\n    <tr>\n      <th>8371</th>\n      <td>8381</td>\n      <td>hopeless</td>\n      <td>The launch of ' Happy Birthday ' took place la...</td>\n      <td>0</td>\n      <td>[0.0, 0.0, 0.0, 0.0, 0.0, 0.0, 0.0, 0.0, 0.0, ...</td>\n    </tr>\n    <tr>\n      <th>8372</th>\n      <td>8382</td>\n      <td>homeless</td>\n      <td>The unrest has left at least 20,000 people dea...</td>\n      <td>0</td>\n      <td>[0.0, 0.0, 0.0, 0.0, 0.0, 0.0, 0.0, 0.0, 0.0, ...</td>\n    </tr>\n    <tr>\n      <th>8373</th>\n      <td>8383</td>\n      <td>hopeless</td>\n      <td>You have to see it from my perspective . I may...</td>\n      <td>0</td>\n      <td>[0.0, 0.0, 0.0, 0.0, 0.0, 0.0, 0.0, 0.0, 0.0, ...</td>\n    </tr>\n    <tr>\n      <th>8374</th>\n      <td>8384</td>\n      <td>disabled</td>\n      <td>Yet there was one occasion when we went to the...</td>\n      <td>0</td>\n      <td>[0.0, 0.0, 0.0, 0.0, 0.0, 0.0, 0.0, 0.0, 0.0, ...</td>\n    </tr>\n  </tbody>\n</table>\n<p>8375 rows × 5 columns</p>\n</div>"
     },
     "execution_count": 58,
     "metadata": {},
     "output_type": "execute_result"
    }
   ],
   "source": [
    "from sklearn.preprocessing import OneHotEncoder\n",
    "X = trdf1['country'].values.reshape(-1, 1)\n",
    "enc = OneHotEncoder().fit(X)\n",
    "\n",
    "X = enc.transform(X).toarray()\n",
    "trdf1['country'] = pd.Series(X.tolist())\n",
    "trdf1"
   ],
   "metadata": {
    "collapsed": false,
    "ExecuteTime": {
     "end_time": "2024-02-28T19:25:25.712444Z",
     "start_time": "2024-02-28T19:25:25.698511Z"
    }
   },
   "id": "b2f249da07cca38c"
  },
  {
   "cell_type": "code",
   "execution_count": 61,
   "outputs": [],
   "source": [
    "path = '/Users/gouse/PycharmProjects/NLP/labs_2023_2024/CW/data/baseline_preprocessed_csvs'\n",
    "trdf1.to_csv(path+'/trdf1_countries.csv', index=False, encoding='utf-8')"
   ],
   "metadata": {
    "collapsed": false,
    "ExecuteTime": {
     "end_time": "2024-02-28T19:25:35.443905Z",
     "start_time": "2024-02-28T19:25:35.367466Z"
    }
   },
   "id": "f37c6432968cbce1"
  },
  {
   "cell_type": "markdown",
   "source": [
    "#### Test"
   ],
   "metadata": {
    "collapsed": false
   },
   "id": "991e994ca31cd285"
  },
  {
   "cell_type": "code",
   "execution_count": 62,
   "outputs": [
    {
     "data": {
      "text/plain": "     par_id   community                                               text  \\\n0      4046    hopeless  We also know that they can benefit by receivin...   \n1      1279     refugee  Pope Francis washed and kissed the feet of Mus...   \n2      8330     refugee  Many refugees do n't want to be resettled anyw...   \n3      4063     in-need  \"Budding chefs , like \"\" Fred \"\" , \"\" Winston ...   \n4      4089    homeless  \"In a 90-degree view of his constituency , one...   \n...     ...         ...                                                ...   \n2089  10462    homeless  The sad spectacle , which occurred on Saturday...   \n2090  10463     refugee  \"\"\" The Pakistani police came to our house and...   \n2091  10464    disabled  \"When Marie O'Donoghue went looking for a spec...   \n2092  10465       women  \"Sri Lankan norms and culture inhibit women fr...   \n2093  10466  vulnerable  He added that the AFP will continue to bank on...   \n\n      label  country  \n0         1        0  \n1         1        1  \n2         1        1  \n3         1        2  \n4         1        3  \n...     ...      ...  \n2089      0       16  \n2090      0        3  \n2091      0        2  \n2092      0        9  \n2093      0        8  \n\n[2094 rows x 5 columns]",
      "text/html": "<div>\n<style scoped>\n    .dataframe tbody tr th:only-of-type {\n        vertical-align: middle;\n    }\n\n    .dataframe tbody tr th {\n        vertical-align: top;\n    }\n\n    .dataframe thead th {\n        text-align: right;\n    }\n</style>\n<table border=\"1\" class=\"dataframe\">\n  <thead>\n    <tr style=\"text-align: right;\">\n      <th></th>\n      <th>par_id</th>\n      <th>community</th>\n      <th>text</th>\n      <th>label</th>\n      <th>country</th>\n    </tr>\n  </thead>\n  <tbody>\n    <tr>\n      <th>0</th>\n      <td>4046</td>\n      <td>hopeless</td>\n      <td>We also know that they can benefit by receivin...</td>\n      <td>1</td>\n      <td>0</td>\n    </tr>\n    <tr>\n      <th>1</th>\n      <td>1279</td>\n      <td>refugee</td>\n      <td>Pope Francis washed and kissed the feet of Mus...</td>\n      <td>1</td>\n      <td>1</td>\n    </tr>\n    <tr>\n      <th>2</th>\n      <td>8330</td>\n      <td>refugee</td>\n      <td>Many refugees do n't want to be resettled anyw...</td>\n      <td>1</td>\n      <td>1</td>\n    </tr>\n    <tr>\n      <th>3</th>\n      <td>4063</td>\n      <td>in-need</td>\n      <td>\"Budding chefs , like \"\" Fred \"\" , \"\" Winston ...</td>\n      <td>1</td>\n      <td>2</td>\n    </tr>\n    <tr>\n      <th>4</th>\n      <td>4089</td>\n      <td>homeless</td>\n      <td>\"In a 90-degree view of his constituency , one...</td>\n      <td>1</td>\n      <td>3</td>\n    </tr>\n    <tr>\n      <th>...</th>\n      <td>...</td>\n      <td>...</td>\n      <td>...</td>\n      <td>...</td>\n      <td>...</td>\n    </tr>\n    <tr>\n      <th>2089</th>\n      <td>10462</td>\n      <td>homeless</td>\n      <td>The sad spectacle , which occurred on Saturday...</td>\n      <td>0</td>\n      <td>16</td>\n    </tr>\n    <tr>\n      <th>2090</th>\n      <td>10463</td>\n      <td>refugee</td>\n      <td>\"\"\" The Pakistani police came to our house and...</td>\n      <td>0</td>\n      <td>3</td>\n    </tr>\n    <tr>\n      <th>2091</th>\n      <td>10464</td>\n      <td>disabled</td>\n      <td>\"When Marie O'Donoghue went looking for a spec...</td>\n      <td>0</td>\n      <td>2</td>\n    </tr>\n    <tr>\n      <th>2092</th>\n      <td>10465</td>\n      <td>women</td>\n      <td>\"Sri Lankan norms and culture inhibit women fr...</td>\n      <td>0</td>\n      <td>9</td>\n    </tr>\n    <tr>\n      <th>2093</th>\n      <td>10466</td>\n      <td>vulnerable</td>\n      <td>He added that the AFP will continue to bank on...</td>\n      <td>0</td>\n      <td>8</td>\n    </tr>\n  </tbody>\n</table>\n<p>2094 rows × 5 columns</p>\n</div>"
     },
     "execution_count": 62,
     "metadata": {},
     "output_type": "execute_result"
    }
   ],
   "source": [
    "rows = [] # will contain par_id, label and text\n",
    "for idx in range(len(teids)):  \n",
    "  parid = teids.par_id[idx]\n",
    "  #print(parid)\n",
    "  # select row from original dataset\n",
    "  keyword = data.loc[data.par_id == parid].keyword.values[0]\n",
    "  text = data.loc[data.par_id == parid].text.values[0]\n",
    "  label = data.loc[data.par_id == parid].label.values[0]\n",
    "  country = data.loc[data.par_id == parid].country.values[0]\n",
    "  rows.append({\n",
    "      'par_id':parid,\n",
    "      'community':keyword,\n",
    "      'text':text,\n",
    "      'label':label,\n",
    "      'country':country\n",
    "  })\n",
    "tedf1 = pd.DataFrame(rows)\n",
    "# Convert countries to categtorical label value \n",
    "tedf1[\"country\"] = pd.Categorical(tedf1[\"country\"], categories=tedf1[\"country\"].unique()).codes\n",
    "tedf1[\"country\"].unique()\n",
    "tedf1"
   ],
   "metadata": {
    "collapsed": false,
    "ExecuteTime": {
     "end_time": "2024-02-28T20:46:55.015970Z",
     "start_time": "2024-02-28T20:46:51.440139Z"
    }
   },
   "id": "5b073643f15fd24a"
  },
  {
   "cell_type": "code",
   "execution_count": 63,
   "outputs": [
    {
     "data": {
      "text/plain": "     par_id   community                                               text  \\\n0      4046    hopeless  We also know that they can benefit by receivin...   \n1      1279     refugee  Pope Francis washed and kissed the feet of Mus...   \n2      8330     refugee  Many refugees do n't want to be resettled anyw...   \n3      4063     in-need  \"Budding chefs , like \"\" Fred \"\" , \"\" Winston ...   \n4      4089    homeless  \"In a 90-degree view of his constituency , one...   \n...     ...         ...                                                ...   \n2089  10462    homeless  The sad spectacle , which occurred on Saturday...   \n2090  10463     refugee  \"\"\" The Pakistani police came to our house and...   \n2091  10464    disabled  \"When Marie O'Donoghue went looking for a spec...   \n2092  10465       women  \"Sri Lankan norms and culture inhibit women fr...   \n2093  10466  vulnerable  He added that the AFP will continue to bank on...   \n\n      label                                            country  \n0         1  [1.0, 0.0, 0.0, 0.0, 0.0, 0.0, 0.0, 0.0, 0.0, ...  \n1         1  [0.0, 1.0, 0.0, 0.0, 0.0, 0.0, 0.0, 0.0, 0.0, ...  \n2         1  [0.0, 1.0, 0.0, 0.0, 0.0, 0.0, 0.0, 0.0, 0.0, ...  \n3         1  [0.0, 0.0, 1.0, 0.0, 0.0, 0.0, 0.0, 0.0, 0.0, ...  \n4         1  [0.0, 0.0, 0.0, 1.0, 0.0, 0.0, 0.0, 0.0, 0.0, ...  \n...     ...                                                ...  \n2089      0  [0.0, 0.0, 0.0, 0.0, 0.0, 0.0, 0.0, 0.0, 0.0, ...  \n2090      0  [0.0, 0.0, 0.0, 1.0, 0.0, 0.0, 0.0, 0.0, 0.0, ...  \n2091      0  [0.0, 0.0, 1.0, 0.0, 0.0, 0.0, 0.0, 0.0, 0.0, ...  \n2092      0  [0.0, 0.0, 0.0, 0.0, 0.0, 0.0, 0.0, 0.0, 0.0, ...  \n2093      0  [0.0, 0.0, 0.0, 0.0, 0.0, 0.0, 0.0, 0.0, 1.0, ...  \n\n[2094 rows x 5 columns]",
      "text/html": "<div>\n<style scoped>\n    .dataframe tbody tr th:only-of-type {\n        vertical-align: middle;\n    }\n\n    .dataframe tbody tr th {\n        vertical-align: top;\n    }\n\n    .dataframe thead th {\n        text-align: right;\n    }\n</style>\n<table border=\"1\" class=\"dataframe\">\n  <thead>\n    <tr style=\"text-align: right;\">\n      <th></th>\n      <th>par_id</th>\n      <th>community</th>\n      <th>text</th>\n      <th>label</th>\n      <th>country</th>\n    </tr>\n  </thead>\n  <tbody>\n    <tr>\n      <th>0</th>\n      <td>4046</td>\n      <td>hopeless</td>\n      <td>We also know that they can benefit by receivin...</td>\n      <td>1</td>\n      <td>[1.0, 0.0, 0.0, 0.0, 0.0, 0.0, 0.0, 0.0, 0.0, ...</td>\n    </tr>\n    <tr>\n      <th>1</th>\n      <td>1279</td>\n      <td>refugee</td>\n      <td>Pope Francis washed and kissed the feet of Mus...</td>\n      <td>1</td>\n      <td>[0.0, 1.0, 0.0, 0.0, 0.0, 0.0, 0.0, 0.0, 0.0, ...</td>\n    </tr>\n    <tr>\n      <th>2</th>\n      <td>8330</td>\n      <td>refugee</td>\n      <td>Many refugees do n't want to be resettled anyw...</td>\n      <td>1</td>\n      <td>[0.0, 1.0, 0.0, 0.0, 0.0, 0.0, 0.0, 0.0, 0.0, ...</td>\n    </tr>\n    <tr>\n      <th>3</th>\n      <td>4063</td>\n      <td>in-need</td>\n      <td>\"Budding chefs , like \"\" Fred \"\" , \"\" Winston ...</td>\n      <td>1</td>\n      <td>[0.0, 0.0, 1.0, 0.0, 0.0, 0.0, 0.0, 0.0, 0.0, ...</td>\n    </tr>\n    <tr>\n      <th>4</th>\n      <td>4089</td>\n      <td>homeless</td>\n      <td>\"In a 90-degree view of his constituency , one...</td>\n      <td>1</td>\n      <td>[0.0, 0.0, 0.0, 1.0, 0.0, 0.0, 0.0, 0.0, 0.0, ...</td>\n    </tr>\n    <tr>\n      <th>...</th>\n      <td>...</td>\n      <td>...</td>\n      <td>...</td>\n      <td>...</td>\n      <td>...</td>\n    </tr>\n    <tr>\n      <th>2089</th>\n      <td>10462</td>\n      <td>homeless</td>\n      <td>The sad spectacle , which occurred on Saturday...</td>\n      <td>0</td>\n      <td>[0.0, 0.0, 0.0, 0.0, 0.0, 0.0, 0.0, 0.0, 0.0, ...</td>\n    </tr>\n    <tr>\n      <th>2090</th>\n      <td>10463</td>\n      <td>refugee</td>\n      <td>\"\"\" The Pakistani police came to our house and...</td>\n      <td>0</td>\n      <td>[0.0, 0.0, 0.0, 1.0, 0.0, 0.0, 0.0, 0.0, 0.0, ...</td>\n    </tr>\n    <tr>\n      <th>2091</th>\n      <td>10464</td>\n      <td>disabled</td>\n      <td>\"When Marie O'Donoghue went looking for a spec...</td>\n      <td>0</td>\n      <td>[0.0, 0.0, 1.0, 0.0, 0.0, 0.0, 0.0, 0.0, 0.0, ...</td>\n    </tr>\n    <tr>\n      <th>2092</th>\n      <td>10465</td>\n      <td>women</td>\n      <td>\"Sri Lankan norms and culture inhibit women fr...</td>\n      <td>0</td>\n      <td>[0.0, 0.0, 0.0, 0.0, 0.0, 0.0, 0.0, 0.0, 0.0, ...</td>\n    </tr>\n    <tr>\n      <th>2093</th>\n      <td>10466</td>\n      <td>vulnerable</td>\n      <td>He added that the AFP will continue to bank on...</td>\n      <td>0</td>\n      <td>[0.0, 0.0, 0.0, 0.0, 0.0, 0.0, 0.0, 0.0, 1.0, ...</td>\n    </tr>\n  </tbody>\n</table>\n<p>2094 rows × 5 columns</p>\n</div>"
     },
     "execution_count": 63,
     "metadata": {},
     "output_type": "execute_result"
    }
   ],
   "source": [
    "from sklearn.preprocessing import OneHotEncoder\n",
    "X = tedf1['country'].values.reshape(-1, 1)\n",
    "enc = OneHotEncoder().fit(X)\n",
    "\n",
    "X = enc.transform(X).toarray()\n",
    "tedf1['country'] = pd.Series(X.tolist())\n",
    "tedf1"
   ],
   "metadata": {
    "collapsed": false,
    "ExecuteTime": {
     "end_time": "2024-02-28T20:47:42.650515Z",
     "start_time": "2024-02-28T20:47:42.633196Z"
    }
   },
   "id": "b735153636998a16"
  },
  {
   "cell_type": "code",
   "execution_count": 64,
   "outputs": [],
   "source": [
    "path = '/Users/gouse/PycharmProjects/NLP/labs_2023_2024/CW/data/baseline_preprocessed_csvs'\n",
    "tedf1.to_csv(path+'/tedf1_countries.csv', index=False, encoding='utf-8')"
   ],
   "metadata": {
    "collapsed": false,
    "ExecuteTime": {
     "end_time": "2024-02-28T20:48:17.539479Z",
     "start_time": "2024-02-28T20:48:17.513301Z"
    }
   },
   "id": "d5e4b4c3b344a980"
  },
  {
   "cell_type": "markdown",
   "source": [
    "#### Roberta task 1"
   ],
   "metadata": {
    "collapsed": false
   },
   "id": "6c92d931e031f948"
  },
  {
   "cell_type": "code",
   "execution_count": 11,
   "outputs": [],
   "source": [
    "# downsample negative instances\n",
    "pcldf = trdf1[trdf1.label==1]\n",
    "npos = len(pcldf)\n",
    "\n",
    "training_set1 = pd.concat([pcldf,trdf1[trdf1.label==0][:npos*2]])"
   ],
   "metadata": {
    "collapsed": false,
    "ExecuteTime": {
     "end_time": "2024-02-28T18:43:45.110829Z",
     "start_time": "2024-02-28T18:43:45.104139Z"
    }
   },
   "id": "99758d2ef64a31f1"
  },
  {
   "cell_type": "code",
   "execution_count": 13,
   "outputs": [
    {
     "name": "stdout",
     "output_type": "stream",
     "text": [
      "2382\n",
      "794\n",
      "7581\n"
     ]
    }
   ],
   "source": [
    "print(len(training_set1))\n",
    "print(len(trdf1[trdf1.label==1]))\n",
    "print(len(trdf1[trdf1.label==0]))"
   ],
   "metadata": {
    "collapsed": false,
    "ExecuteTime": {
     "end_time": "2024-02-27T16:48:35.859397Z",
     "start_time": "2024-02-27T16:48:35.854918Z"
    }
   },
   "id": "ba47dd1b1b25d984"
  },
  {
   "cell_type": "code",
   "execution_count": 14,
   "outputs": [
    {
     "data": {
      "text/plain": "     par_id      community                                               text  \\\n0      4341  poor-families  The scheme saw an estimated 150,000 children f...   \n1      4136       homeless  Durban 's homeless communities reconciliation ...   \n2     10352  poor-families  The next immediate problem that cropped up was...   \n3      8279     vulnerable  Far more important than the implications for t...   \n4      1164  poor-families  To strengthen child-sensitive social protectio...   \n...     ...            ...                                                ...   \n2377   1775        refugee  Last but not the least element of culpability ...   \n2378   1776        refugee  Then , taking the art of counter-intuitive non...   \n2379   1777        refugee  Kagunga village was reported to lack necessary...   \n2380   1778     vulnerable  \"After her parents high-profile divorce after ...   \n2381   1779        in-need  \"Last night One News reported on leaked Minist...   \n\n      label  \n0         1  \n1         1  \n2         1  \n3         1  \n4         1  \n...     ...  \n2377      0  \n2378      0  \n2379      0  \n2380      0  \n2381      0  \n\n[2382 rows x 4 columns]",
      "text/html": "<div>\n<style scoped>\n    .dataframe tbody tr th:only-of-type {\n        vertical-align: middle;\n    }\n\n    .dataframe tbody tr th {\n        vertical-align: top;\n    }\n\n    .dataframe thead th {\n        text-align: right;\n    }\n</style>\n<table border=\"1\" class=\"dataframe\">\n  <thead>\n    <tr style=\"text-align: right;\">\n      <th></th>\n      <th>par_id</th>\n      <th>community</th>\n      <th>text</th>\n      <th>label</th>\n    </tr>\n  </thead>\n  <tbody>\n    <tr>\n      <th>0</th>\n      <td>4341</td>\n      <td>poor-families</td>\n      <td>The scheme saw an estimated 150,000 children f...</td>\n      <td>1</td>\n    </tr>\n    <tr>\n      <th>1</th>\n      <td>4136</td>\n      <td>homeless</td>\n      <td>Durban 's homeless communities reconciliation ...</td>\n      <td>1</td>\n    </tr>\n    <tr>\n      <th>2</th>\n      <td>10352</td>\n      <td>poor-families</td>\n      <td>The next immediate problem that cropped up was...</td>\n      <td>1</td>\n    </tr>\n    <tr>\n      <th>3</th>\n      <td>8279</td>\n      <td>vulnerable</td>\n      <td>Far more important than the implications for t...</td>\n      <td>1</td>\n    </tr>\n    <tr>\n      <th>4</th>\n      <td>1164</td>\n      <td>poor-families</td>\n      <td>To strengthen child-sensitive social protectio...</td>\n      <td>1</td>\n    </tr>\n    <tr>\n      <th>...</th>\n      <td>...</td>\n      <td>...</td>\n      <td>...</td>\n      <td>...</td>\n    </tr>\n    <tr>\n      <th>2377</th>\n      <td>1775</td>\n      <td>refugee</td>\n      <td>Last but not the least element of culpability ...</td>\n      <td>0</td>\n    </tr>\n    <tr>\n      <th>2378</th>\n      <td>1776</td>\n      <td>refugee</td>\n      <td>Then , taking the art of counter-intuitive non...</td>\n      <td>0</td>\n    </tr>\n    <tr>\n      <th>2379</th>\n      <td>1777</td>\n      <td>refugee</td>\n      <td>Kagunga village was reported to lack necessary...</td>\n      <td>0</td>\n    </tr>\n    <tr>\n      <th>2380</th>\n      <td>1778</td>\n      <td>vulnerable</td>\n      <td>\"After her parents high-profile divorce after ...</td>\n      <td>0</td>\n    </tr>\n    <tr>\n      <th>2381</th>\n      <td>1779</td>\n      <td>in-need</td>\n      <td>\"Last night One News reported on leaked Minist...</td>\n      <td>0</td>\n    </tr>\n  </tbody>\n</table>\n<p>2382 rows × 4 columns</p>\n</div>"
     },
     "execution_count": 14,
     "metadata": {},
     "output_type": "execute_result"
    }
   ],
   "source": [
    "training_set1"
   ],
   "metadata": {
    "collapsed": false,
    "ExecuteTime": {
     "end_time": "2024-02-27T16:48:35.903550Z",
     "start_time": "2024-02-27T16:48:35.859323Z"
    }
   },
   "id": "1dcc4cbf56e878c7"
  },
  {
   "cell_type": "code",
   "execution_count": 15,
   "outputs": [
    {
     "name": "stderr",
     "output_type": "stream",
     "text": [
      "Some weights of RobertaForSequenceClassification were not initialized from the model checkpoint at roberta-base and are newly initialized: ['classifier.dense.bias', 'classifier.dense.weight', 'classifier.out_proj.bias', 'classifier.out_proj.weight']\n",
      "You should probably TRAIN this model on a down-stream task to be able to use it for predictions and inference.\n",
      "/Users/gouse/PycharmProjects/NLP/venv/lib/python3.9/site-packages/simpletransformers/classification/classification_model.py:610: UserWarning: Dataframe headers not specified. Falling back to using column 0 as text and column 1 as labels.\n",
      "  warnings.warn(\n",
      "INFO:simpletransformers.classification.classification_utils: Converting to features started. Cache is not used.\n"
     ]
    },
    {
     "data": {
      "text/plain": "  0%|          | 0/4 [00:00<?, ?it/s]",
      "application/vnd.jupyter.widget-view+json": {
       "version_major": 2,
       "version_minor": 0,
       "model_id": "4d967a28eb714264a9d04f262c16940a"
      }
     },
     "metadata": {},
     "output_type": "display_data"
    },
    {
     "name": "stderr",
     "output_type": "stream",
     "text": [
      "/Users/gouse/PycharmProjects/NLP/venv/lib/python3.9/site-packages/urllib3/__init__.py:34: NotOpenSSLWarning: urllib3 v2 only supports OpenSSL 1.1.1+, currently the 'ssl' module is compiled with 'LibreSSL 2.8.3'. See: https://github.com/urllib3/urllib3/issues/3020\n",
      "  warnings.warn(\n",
      "/Users/gouse/PycharmProjects/NLP/venv/lib/python3.9/site-packages/urllib3/__init__.py:34: NotOpenSSLWarning: urllib3 v2 only supports OpenSSL 1.1.1+, currently the 'ssl' module is compiled with 'LibreSSL 2.8.3'. See: https://github.com/urllib3/urllib3/issues/3020\n",
      "  warnings.warn(\n",
      "/Users/gouse/PycharmProjects/NLP/venv/lib/python3.9/site-packages/urllib3/__init__.py:34: NotOpenSSLWarning: urllib3 v2 only supports OpenSSL 1.1.1+, currently the 'ssl' module is compiled with 'LibreSSL 2.8.3'. See: https://github.com/urllib3/urllib3/issues/3020\n",
      "  warnings.warn(\n",
      "/Users/gouse/PycharmProjects/NLP/venv/lib/python3.9/site-packages/urllib3/__init__.py:34: NotOpenSSLWarning: urllib3 v2 only supports OpenSSL 1.1.1+, currently the 'ssl' module is compiled with 'LibreSSL 2.8.3'. See: https://github.com/urllib3/urllib3/issues/3020\n",
      "  warnings.warn(\n",
      "/Users/gouse/PycharmProjects/NLP/venv/lib/python3.9/site-packages/urllib3/__init__.py:34: NotOpenSSLWarning: urllib3 v2 only supports OpenSSL 1.1.1+, currently the 'ssl' module is compiled with 'LibreSSL 2.8.3'. See: https://github.com/urllib3/urllib3/issues/3020\n",
      "  warnings.warn(\n",
      "huggingface/tokenizers: The current process just got forked, after parallelism has already been used. Disabling parallelism to avoid deadlocks...\n",
      "To disable this warning, you can either:\n",
      "\t- Avoid using `tokenizers` before the fork if possible\n",
      "\t- Explicitly set the environment variable TOKENIZERS_PARALLELISM=(true | false)\n",
      "huggingface/tokenizers: The current process just got forked, after parallelism has already been used. Disabling parallelism to avoid deadlocks...\n",
      "To disable this warning, you can either:\n",
      "\t- Avoid using `tokenizers` before the fork if possible\n",
      "\t- Explicitly set the environment variable TOKENIZERS_PARALLELISM=(true | false)\n",
      "huggingface/tokenizers: The current process just got forked, after parallelism has already been used. Disabling parallelism to avoid deadlocks...\n",
      "To disable this warning, you can either:\n",
      "\t- Avoid using `tokenizers` before the fork if possible\n",
      "\t- Explicitly set the environment variable TOKENIZERS_PARALLELISM=(true | false)\n",
      "huggingface/tokenizers: The current process just got forked, after parallelism has already been used. Disabling parallelism to avoid deadlocks...\n",
      "To disable this warning, you can either:\n",
      "\t- Avoid using `tokenizers` before the fork if possible\n",
      "\t- Explicitly set the environment variable TOKENIZERS_PARALLELISM=(true | false)\n",
      "huggingface/tokenizers: The current process just got forked, after parallelism has already been used. Disabling parallelism to avoid deadlocks...\n",
      "To disable this warning, you can either:\n",
      "\t- Avoid using `tokenizers` before the fork if possible\n",
      "\t- Explicitly set the environment variable TOKENIZERS_PARALLELISM=(true | false)\n"
     ]
    },
    {
     "data": {
      "text/plain": "Epoch:   0%|          | 0/1 [00:00<?, ?it/s]",
      "application/vnd.jupyter.widget-view+json": {
       "version_major": 2,
       "version_minor": 0,
       "model_id": "497dda3877a34a62995a3872f2870ade"
      }
     },
     "metadata": {},
     "output_type": "display_data"
    },
    {
     "data": {
      "text/plain": "Running Epoch 1 of 1:   0%|          | 0/298 [00:00<?, ?it/s]",
      "application/vnd.jupyter.widget-view+json": {
       "version_major": 2,
       "version_minor": 0,
       "model_id": "d008c31f2c4944b49aa0a11b9ba84f0e"
      }
     },
     "metadata": {},
     "output_type": "display_data"
    },
    {
     "name": "stderr",
     "output_type": "stream",
     "text": [
      "INFO:simpletransformers.classification.classification_model: Training of roberta model complete. Saved to outputs/.\n",
      "INFO:simpletransformers.classification.classification_utils: Converting to features started. Cache is not used.\n"
     ]
    },
    {
     "data": {
      "text/plain": "  0%|          | 0/4 [00:00<?, ?it/s]",
      "application/vnd.jupyter.widget-view+json": {
       "version_major": 2,
       "version_minor": 0,
       "model_id": "0f11e441cdaa477f9381b0722f0061e6"
      }
     },
     "metadata": {},
     "output_type": "display_data"
    },
    {
     "name": "stderr",
     "output_type": "stream",
     "text": [
      "/Users/gouse/PycharmProjects/NLP/venv/lib/python3.9/site-packages/urllib3/__init__.py:34: NotOpenSSLWarning: urllib3 v2 only supports OpenSSL 1.1.1+, currently the 'ssl' module is compiled with 'LibreSSL 2.8.3'. See: https://github.com/urllib3/urllib3/issues/3020\n",
      "  warnings.warn(\n",
      "/Users/gouse/PycharmProjects/NLP/venv/lib/python3.9/site-packages/urllib3/__init__.py:34: NotOpenSSLWarning: urllib3 v2 only supports OpenSSL 1.1.1+, currently the 'ssl' module is compiled with 'LibreSSL 2.8.3'. See: https://github.com/urllib3/urllib3/issues/3020\n",
      "  warnings.warn(\n",
      "/Users/gouse/PycharmProjects/NLP/venv/lib/python3.9/site-packages/urllib3/__init__.py:34: NotOpenSSLWarning: urllib3 v2 only supports OpenSSL 1.1.1+, currently the 'ssl' module is compiled with 'LibreSSL 2.8.3'. See: https://github.com/urllib3/urllib3/issues/3020\n",
      "  warnings.warn(\n",
      "/Users/gouse/PycharmProjects/NLP/venv/lib/python3.9/site-packages/urllib3/__init__.py:34: NotOpenSSLWarning: urllib3 v2 only supports OpenSSL 1.1.1+, currently the 'ssl' module is compiled with 'LibreSSL 2.8.3'. See: https://github.com/urllib3/urllib3/issues/3020\n",
      "  warnings.warn(\n",
      "/Users/gouse/PycharmProjects/NLP/venv/lib/python3.9/site-packages/urllib3/__init__.py:34: NotOpenSSLWarning: urllib3 v2 only supports OpenSSL 1.1.1+, currently the 'ssl' module is compiled with 'LibreSSL 2.8.3'. See: https://github.com/urllib3/urllib3/issues/3020\n",
      "  warnings.warn(\n",
      "huggingface/tokenizers: The current process just got forked, after parallelism has already been used. Disabling parallelism to avoid deadlocks...\n",
      "To disable this warning, you can either:\n",
      "\t- Avoid using `tokenizers` before the fork if possible\n",
      "\t- Explicitly set the environment variable TOKENIZERS_PARALLELISM=(true | false)\n",
      "huggingface/tokenizers: The current process just got forked, after parallelism has already been used. Disabling parallelism to avoid deadlocks...\n",
      "To disable this warning, you can either:\n",
      "\t- Avoid using `tokenizers` before the fork if possible\n",
      "\t- Explicitly set the environment variable TOKENIZERS_PARALLELISM=(true | false)\n",
      "huggingface/tokenizers: The current process just got forked, after parallelism has already been used. Disabling parallelism to avoid deadlocks...\n",
      "To disable this warning, you can either:\n",
      "\t- Avoid using `tokenizers` before the fork if possible\n",
      "\t- Explicitly set the environment variable TOKENIZERS_PARALLELISM=(true | false)\n",
      "huggingface/tokenizers: The current process just got forked, after parallelism has already been used. Disabling parallelism to avoid deadlocks...\n",
      "To disable this warning, you can either:\n",
      "\t- Avoid using `tokenizers` before the fork if possible\n",
      "\t- Explicitly set the environment variable TOKENIZERS_PARALLELISM=(true | false)\n",
      "huggingface/tokenizers: The current process just got forked, after parallelism has already been used. Disabling parallelism to avoid deadlocks...\n",
      "To disable this warning, you can either:\n",
      "\t- Avoid using `tokenizers` before the fork if possible\n",
      "\t- Explicitly set the environment variable TOKENIZERS_PARALLELISM=(true | false)\n"
     ]
    },
    {
     "data": {
      "text/plain": "  0%|          | 0/21 [00:00<?, ?it/s]",
      "application/vnd.jupyter.widget-view+json": {
       "version_major": 2,
       "version_minor": 0,
       "model_id": "35a00270365744b8bb5e1ba04c0ce07b"
      }
     },
     "metadata": {},
     "output_type": "display_data"
    }
   ],
   "source": [
    "from sklearn.metrics import f1_score, accuracy_score\n",
    "\n",
    "task1_model_args = ClassificationArgs(num_train_epochs=1, \n",
    "                                      no_save=True, \n",
    "                                      no_cache=True, \n",
    "                                      overwrite_output_dir=True)\n",
    "task1_model = ClassificationModel(\"roberta\", \n",
    "                                  'roberta-base', \n",
    "                                  args = task1_model_args, \n",
    "                                  num_labels=2, \n",
    "                                  use_cuda=cuda_available)\n",
    "# train model\n",
    "task1_model.train_model(training_set1[['text', 'label']])\n",
    "# run predictions\n",
    "preds_task1, _ = task1_model.predict(tedf1.text.tolist())"
   ],
   "metadata": {
    "collapsed": false,
    "ExecuteTime": {
     "end_time": "2024-02-27T16:54:26.218181Z",
     "start_time": "2024-02-27T16:48:35.866576Z"
    }
   },
   "id": "f89250396295cf43"
  },
  {
   "cell_type": "code",
   "execution_count": 16,
   "outputs": [
    {
     "name": "stdout",
     "output_type": "stream",
     "text": [
      "[0 0 0 ... 0 0 0]\n",
      "Counter({0: 1784, 1: 310})\n",
      "None\n"
     ]
    }
   ],
   "source": [
    "print(preds_task1)\n",
    "print(Counter(preds_task1))\n",
    "print(labels2file([[k] for k in preds_task1], 'task1.txt'))"
   ],
   "metadata": {
    "collapsed": false,
    "ExecuteTime": {
     "end_time": "2024-02-27T16:54:26.226506Z",
     "start_time": "2024-02-27T16:54:26.221925Z"
    }
   },
   "id": "e70f2df9688afb5c"
  },
  {
   "cell_type": "code",
   "execution_count": 17,
   "outputs": [
    {
     "name": "stdout",
     "output_type": "stream",
     "text": [
      "F1-score on dev:0.550098231827112\n"
     ]
    }
   ],
   "source": [
    "from sklearn.metrics import f1_score\n",
    "\n",
    "print(f\"F1-score on dev:{f1_score(tedf1.label, preds_task1)}\")"
   ],
   "metadata": {
    "collapsed": false,
    "ExecuteTime": {
     "end_time": "2024-02-27T16:54:26.233210Z",
     "start_time": "2024-02-27T16:54:26.229550Z"
    }
   },
   "id": "293d3e0f22dcc5a1"
  },
  {
   "cell_type": "code",
   "execution_count": 18,
   "outputs": [
    {
     "data": {
      "text/plain": "array([0, 0, 0, ..., 0, 0, 0])"
     },
     "execution_count": 18,
     "metadata": {},
     "output_type": "execute_result"
    }
   ],
   "source": [
    "preds_task1"
   ],
   "metadata": {
    "collapsed": false,
    "ExecuteTime": {
     "end_time": "2024-02-27T16:54:26.236310Z",
     "start_time": "2024-02-27T16:54:26.233975Z"
    }
   },
   "id": "1b7e17f8b9a1d566"
  },
  {
   "cell_type": "markdown",
   "source": [
    "**Rebuild training set (Task 2)**"
   ],
   "metadata": {
    "collapsed": false
   },
   "id": "1193b8f85c113c4e"
  },
  {
   "cell_type": "code",
   "execution_count": 20,
   "outputs": [],
   "source": [
    "rows2 = [] # will contain par_id, label and text\n",
    "for idx in range(len(trids)):  \n",
    "  parid = trids.par_id[idx]\n",
    "  label = trids.label[idx]\n",
    "  # select row from original dataset to retrieve the `text` value\n",
    "  text = dpm.train_task1_df.loc[dpm.train_task1_df.par_id == parid].text.values[0]\n",
    "  rows2.append({\n",
    "      'par_id':parid,\n",
    "      'text':text,\n",
    "      'label':label\n",
    "  })\n",
    "  "
   ],
   "metadata": {
    "collapsed": false,
    "ExecuteTime": {
     "end_time": "2024-02-28T18:47:09.399872Z",
     "start_time": "2024-02-28T18:47:05.730550Z"
    }
   },
   "id": "42e61100922e0e3a"
  },
  {
   "cell_type": "code",
   "execution_count": 21,
   "outputs": [
    {
     "data": {
      "text/plain": "     par_id                                               text  \\\n0      4341  The scheme saw an estimated 150,000 children f...   \n1      4136  Durban 's homeless communities reconciliation ...   \n2     10352  The next immediate problem that cropped up was...   \n3      8279  Far more important than the implications for t...   \n4      1164  To strengthen child-sensitive social protectio...   \n...     ...                                                ...   \n8370   8380  Rescue teams search for survivors on the rubbl...   \n8371   8381  The launch of ' Happy Birthday ' took place la...   \n8372   8382  The unrest has left at least 20,000 people dea...   \n8373   8383  You have to see it from my perspective . I may...   \n8374   8384  Yet there was one occasion when we went to the...   \n\n                      label  \n0     [1, 0, 0, 1, 0, 0, 0]  \n1     [0, 1, 0, 0, 0, 0, 0]  \n2     [1, 0, 0, 0, 0, 1, 0]  \n3     [0, 0, 0, 1, 0, 0, 0]  \n4     [1, 0, 0, 1, 1, 1, 0]  \n...                     ...  \n8370  [0, 0, 0, 0, 0, 0, 0]  \n8371  [0, 0, 0, 0, 0, 0, 0]  \n8372  [0, 0, 0, 0, 0, 0, 0]  \n8373  [0, 0, 0, 0, 0, 0, 0]  \n8374  [0, 0, 0, 0, 0, 0, 0]  \n\n[8375 rows x 3 columns]",
      "text/html": "<div>\n<style scoped>\n    .dataframe tbody tr th:only-of-type {\n        vertical-align: middle;\n    }\n\n    .dataframe tbody tr th {\n        vertical-align: top;\n    }\n\n    .dataframe thead th {\n        text-align: right;\n    }\n</style>\n<table border=\"1\" class=\"dataframe\">\n  <thead>\n    <tr style=\"text-align: right;\">\n      <th></th>\n      <th>par_id</th>\n      <th>text</th>\n      <th>label</th>\n    </tr>\n  </thead>\n  <tbody>\n    <tr>\n      <th>0</th>\n      <td>4341</td>\n      <td>The scheme saw an estimated 150,000 children f...</td>\n      <td>[1, 0, 0, 1, 0, 0, 0]</td>\n    </tr>\n    <tr>\n      <th>1</th>\n      <td>4136</td>\n      <td>Durban 's homeless communities reconciliation ...</td>\n      <td>[0, 1, 0, 0, 0, 0, 0]</td>\n    </tr>\n    <tr>\n      <th>2</th>\n      <td>10352</td>\n      <td>The next immediate problem that cropped up was...</td>\n      <td>[1, 0, 0, 0, 0, 1, 0]</td>\n    </tr>\n    <tr>\n      <th>3</th>\n      <td>8279</td>\n      <td>Far more important than the implications for t...</td>\n      <td>[0, 0, 0, 1, 0, 0, 0]</td>\n    </tr>\n    <tr>\n      <th>4</th>\n      <td>1164</td>\n      <td>To strengthen child-sensitive social protectio...</td>\n      <td>[1, 0, 0, 1, 1, 1, 0]</td>\n    </tr>\n    <tr>\n      <th>...</th>\n      <td>...</td>\n      <td>...</td>\n      <td>...</td>\n    </tr>\n    <tr>\n      <th>8370</th>\n      <td>8380</td>\n      <td>Rescue teams search for survivors on the rubbl...</td>\n      <td>[0, 0, 0, 0, 0, 0, 0]</td>\n    </tr>\n    <tr>\n      <th>8371</th>\n      <td>8381</td>\n      <td>The launch of ' Happy Birthday ' took place la...</td>\n      <td>[0, 0, 0, 0, 0, 0, 0]</td>\n    </tr>\n    <tr>\n      <th>8372</th>\n      <td>8382</td>\n      <td>The unrest has left at least 20,000 people dea...</td>\n      <td>[0, 0, 0, 0, 0, 0, 0]</td>\n    </tr>\n    <tr>\n      <th>8373</th>\n      <td>8383</td>\n      <td>You have to see it from my perspective . I may...</td>\n      <td>[0, 0, 0, 0, 0, 0, 0]</td>\n    </tr>\n    <tr>\n      <th>8374</th>\n      <td>8384</td>\n      <td>Yet there was one occasion when we went to the...</td>\n      <td>[0, 0, 0, 0, 0, 0, 0]</td>\n    </tr>\n  </tbody>\n</table>\n<p>8375 rows × 3 columns</p>\n</div>"
     },
     "execution_count": 21,
     "metadata": {},
     "output_type": "execute_result"
    }
   ],
   "source": [
    "trdf2 = pd.DataFrame(rows2)\n",
    "trdf2"
   ],
   "metadata": {
    "collapsed": false,
    "ExecuteTime": {
     "end_time": "2024-02-28T18:47:22.400865Z",
     "start_time": "2024-02-28T18:47:22.387309Z"
    }
   },
   "id": "46716d985136d28c"
  },
  {
   "cell_type": "code",
   "execution_count": 38,
   "outputs": [
    {
     "data": {
      "text/plain": "     par_id  label                                               text  \\\n0      4341      1  The scheme saw an estimated 150,000 children f...   \n1      4136      1  Durban 's homeless communities reconciliation ...   \n2     10352      1  The next immediate problem that cropped up was...   \n3      8279      1  Far more important than the implications for t...   \n4      1164      1  To strengthen child-sensitive social protectio...   \n...     ...    ...                                                ...   \n8370   8380      0  Rescue teams search for survivors on the rubbl...   \n8371   8381      0  The launch of ' Happy Birthday ' took place la...   \n8372   8382      0  The unrest has left at least 20,000 people dea...   \n8373   8383      0  You have to see it from my perspective . I may...   \n8374   8384      0  Yet there was one occasion when we went to the...   \n\n                 categories  \n0     [1, 0, 0, 1, 0, 0, 0]  \n1     [0, 1, 0, 0, 0, 0, 0]  \n2     [1, 0, 0, 0, 0, 1, 0]  \n3     [0, 0, 0, 1, 0, 0, 0]  \n4     [1, 0, 0, 1, 1, 1, 0]  \n...                     ...  \n8370  [0, 0, 0, 0, 0, 0, 0]  \n8371  [0, 0, 0, 0, 0, 0, 0]  \n8372  [0, 0, 0, 0, 0, 0, 0]  \n8373  [0, 0, 0, 0, 0, 0, 0]  \n8374  [0, 0, 0, 0, 0, 0, 0]  \n\n[8375 rows x 4 columns]",
      "text/html": "<div>\n<style scoped>\n    .dataframe tbody tr th:only-of-type {\n        vertical-align: middle;\n    }\n\n    .dataframe tbody tr th {\n        vertical-align: top;\n    }\n\n    .dataframe thead th {\n        text-align: right;\n    }\n</style>\n<table border=\"1\" class=\"dataframe\">\n  <thead>\n    <tr style=\"text-align: right;\">\n      <th></th>\n      <th>par_id</th>\n      <th>label</th>\n      <th>text</th>\n      <th>categories</th>\n    </tr>\n  </thead>\n  <tbody>\n    <tr>\n      <th>0</th>\n      <td>4341</td>\n      <td>1</td>\n      <td>The scheme saw an estimated 150,000 children f...</td>\n      <td>[1, 0, 0, 1, 0, 0, 0]</td>\n    </tr>\n    <tr>\n      <th>1</th>\n      <td>4136</td>\n      <td>1</td>\n      <td>Durban 's homeless communities reconciliation ...</td>\n      <td>[0, 1, 0, 0, 0, 0, 0]</td>\n    </tr>\n    <tr>\n      <th>2</th>\n      <td>10352</td>\n      <td>1</td>\n      <td>The next immediate problem that cropped up was...</td>\n      <td>[1, 0, 0, 0, 0, 1, 0]</td>\n    </tr>\n    <tr>\n      <th>3</th>\n      <td>8279</td>\n      <td>1</td>\n      <td>Far more important than the implications for t...</td>\n      <td>[0, 0, 0, 1, 0, 0, 0]</td>\n    </tr>\n    <tr>\n      <th>4</th>\n      <td>1164</td>\n      <td>1</td>\n      <td>To strengthen child-sensitive social protectio...</td>\n      <td>[1, 0, 0, 1, 1, 1, 0]</td>\n    </tr>\n    <tr>\n      <th>...</th>\n      <td>...</td>\n      <td>...</td>\n      <td>...</td>\n      <td>...</td>\n    </tr>\n    <tr>\n      <th>8370</th>\n      <td>8380</td>\n      <td>0</td>\n      <td>Rescue teams search for survivors on the rubbl...</td>\n      <td>[0, 0, 0, 0, 0, 0, 0]</td>\n    </tr>\n    <tr>\n      <th>8371</th>\n      <td>8381</td>\n      <td>0</td>\n      <td>The launch of ' Happy Birthday ' took place la...</td>\n      <td>[0, 0, 0, 0, 0, 0, 0]</td>\n    </tr>\n    <tr>\n      <th>8372</th>\n      <td>8382</td>\n      <td>0</td>\n      <td>The unrest has left at least 20,000 people dea...</td>\n      <td>[0, 0, 0, 0, 0, 0, 0]</td>\n    </tr>\n    <tr>\n      <th>8373</th>\n      <td>8383</td>\n      <td>0</td>\n      <td>You have to see it from my perspective . I may...</td>\n      <td>[0, 0, 0, 0, 0, 0, 0]</td>\n    </tr>\n    <tr>\n      <th>8374</th>\n      <td>8384</td>\n      <td>0</td>\n      <td>Yet there was one occasion when we went to the...</td>\n      <td>[0, 0, 0, 0, 0, 0, 0]</td>\n    </tr>\n  </tbody>\n</table>\n<p>8375 rows × 4 columns</p>\n</div>"
     },
     "execution_count": 38,
     "metadata": {},
     "output_type": "execute_result"
    }
   ],
   "source": [
    "# concat trdf1 and trdf2\n",
    "\n",
    "new_df = pd.merge(trdf1, trdf2, on='par_id')\n",
    "new_df = new_df.drop(['community', 'text_x'], axis=1)\n",
    "new_df = new_df.rename(columns = {'text_y': 'text', 'label_y': 'categories', 'label_x': 'label'})\n",
    "new_df"
   ],
   "metadata": {
    "collapsed": false,
    "ExecuteTime": {
     "end_time": "2024-02-28T18:58:55.631755Z",
     "start_time": "2024-02-28T18:58:55.618566Z"
    }
   },
   "id": "80016cdfd72566e6"
  },
  {
   "cell_type": "code",
   "execution_count": 39,
   "outputs": [],
   "source": [
    "path = '/Users/gouse/PycharmProjects/NLP/labs_2023_2024/CW/data/baseline_preprocessed_csvs'\n",
    "new_df.to_csv(path+'/trdf1_categories.csv', index=False, encoding='utf-8')"
   ],
   "metadata": {
    "collapsed": false,
    "ExecuteTime": {
     "end_time": "2024-02-28T19:01:37.688026Z",
     "start_time": "2024-02-28T19:01:37.611153Z"
    }
   },
   "id": "3bf11b4c9018700c"
  },
  {
   "cell_type": "code",
   "execution_count": null,
   "outputs": [],
   "source": [],
   "metadata": {
    "collapsed": false
   },
   "id": "d2db767ef98fcd92"
  }
 ],
 "metadata": {
  "kernelspec": {
   "display_name": "Python 3",
   "language": "python",
   "name": "python3"
  },
  "language_info": {
   "codemirror_mode": {
    "name": "ipython",
    "version": 2
   },
   "file_extension": ".py",
   "mimetype": "text/x-python",
   "name": "python",
   "nbconvert_exporter": "python",
   "pygments_lexer": "ipython2",
   "version": "2.7.6"
  }
 },
 "nbformat": 4,
 "nbformat_minor": 5
}
